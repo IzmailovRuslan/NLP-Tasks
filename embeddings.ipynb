{
  "cells": [
    {
      "cell_type": "markdown",
      "metadata": {
        "id": "Ot3c4fjZwC4T"
      },
      "source": [
        "<h3 style=\"text-align: center;\"><b>Физтех-Школа Прикладной математики и информатики (ФПМИ) МФТИ</b></h3>"
      ]
    },
    {
      "cell_type": "markdown",
      "metadata": {
        "id": "eYtJxkhKpYK2"
      },
      "source": [
        "# Embeddings\n",
        "\n",
        "В этом задании с помощью эмбеддингов решим задачу семантической классификации твитов.\n",
        "\n",
        "Для этого мы воспользуемся предобученными эмбеддингами word2vec."
      ]
    },
    {
      "cell_type": "markdown",
      "metadata": {
        "id": "jBOdoFS8AdpP"
      },
      "source": [
        "Для начала скачаем датасет для семантической классификации твитов:"
      ]
    },
    {
      "cell_type": "code",
      "execution_count": null,
      "metadata": {
        "colab": {
          "base_uri": "https://localhost:8080/"
        },
        "id": "wXjhtsfF_gBK",
        "outputId": "90012716-3d09-4067-8f9b-1721e3f415fd"
      },
      "outputs": [
        {
          "output_type": "stream",
          "name": "stdout",
          "text": [
            "Downloading...\n",
            "From: https://drive.google.com/uc?id=1eE1FiUkXkcbw0McId4i7qY-L8hH-_Qph\n",
            "To: /content/archive.zip\n",
            "100% 84.9M/84.9M [00:00<00:00, 307MB/s]\n",
            "Archive:  archive.zip\n",
            "  inflating: training.1600000.processed.noemoticon.csv  \n"
          ]
        }
      ],
      "source": [
        "!gdown https://drive.google.com/uc?id=1eE1FiUkXkcbw0McId4i7qY-L8hH-_Qph&export=download\n",
        "!unzip archive.zip"
      ]
    },
    {
      "cell_type": "markdown",
      "metadata": {
        "id": "Sh6wW-K53Mle"
      },
      "source": [
        "Импортируем нужные библиотеки:"
      ]
    },
    {
      "cell_type": "code",
      "source": [
        "import warnings\n",
        "warnings.filterwarnings('ignore')"
      ],
      "metadata": {
        "id": "vrlOk7JdXNTU"
      },
      "execution_count": null,
      "outputs": []
    },
    {
      "cell_type": "code",
      "execution_count": null,
      "metadata": {
        "id": "A2Y5CHRm6NFe"
      },
      "outputs": [],
      "source": [
        "import math\n",
        "import random\n",
        "import string\n",
        "\n",
        "import numpy as np\n",
        "import pandas as pd\n",
        "import seaborn as sns\n",
        "\n",
        "import torch\n",
        "import nltk\n",
        "import gensim\n",
        "import gensim.downloader as api"
      ]
    },
    {
      "cell_type": "code",
      "execution_count": null,
      "metadata": {
        "id": "73Lb0wbESrgQ"
      },
      "outputs": [],
      "source": [
        "random.seed(42)\n",
        "np.random.seed(42)\n",
        "torch.random.manual_seed(42)\n",
        "torch.cuda.random.manual_seed(42)\n",
        "torch.cuda.random.manual_seed_all(42)\n",
        "\n",
        "device = \"cuda\" if torch.cuda.is_available() else \"cpu\""
      ]
    },
    {
      "cell_type": "code",
      "execution_count": null,
      "metadata": {
        "id": "L_Wv-4bu83Fl"
      },
      "outputs": [],
      "source": [
        "data = pd.read_csv(\"training.1600000.processed.noemoticon.csv\", encoding=\"latin\", header=None, names=[\"emotion\", \"id\", \"date\", \"flag\", \"user\", \"text\"])"
      ]
    },
    {
      "cell_type": "markdown",
      "metadata": {
        "id": "RY1pvYDS3Yuj"
      },
      "source": [
        "Посмотрим на данные:"
      ]
    },
    {
      "cell_type": "code",
      "execution_count": null,
      "metadata": {
        "colab": {
          "base_uri": "https://localhost:8080/",
          "height": 206
        },
        "id": "jST2tjgjCTWD",
        "outputId": "144b1d91-81f0-451b-f15c-bb1e546cb2bf"
      },
      "outputs": [
        {
          "output_type": "execute_result",
          "data": {
            "text/plain": [
              "   emotion          id                          date      flag  \\\n",
              "0        0  1467810369  Mon Apr 06 22:19:45 PDT 2009  NO_QUERY   \n",
              "1        0  1467810672  Mon Apr 06 22:19:49 PDT 2009  NO_QUERY   \n",
              "2        0  1467810917  Mon Apr 06 22:19:53 PDT 2009  NO_QUERY   \n",
              "3        0  1467811184  Mon Apr 06 22:19:57 PDT 2009  NO_QUERY   \n",
              "4        0  1467811193  Mon Apr 06 22:19:57 PDT 2009  NO_QUERY   \n",
              "\n",
              "              user                                               text  \n",
              "0  _TheSpecialOne_  @switchfoot http://twitpic.com/2y1zl - Awww, t...  \n",
              "1    scotthamilton  is upset that he can't update his Facebook by ...  \n",
              "2         mattycus  @Kenichan I dived many times for the ball. Man...  \n",
              "3          ElleCTF    my whole body feels itchy and like its on fire   \n",
              "4           Karoli  @nationwideclass no, it's not behaving at all....  "
            ],
            "text/html": [
              "\n",
              "  <div id=\"df-164e2f2a-4826-444e-993b-e499efd5ba8a\">\n",
              "    <div class=\"colab-df-container\">\n",
              "      <div>\n",
              "<style scoped>\n",
              "    .dataframe tbody tr th:only-of-type {\n",
              "        vertical-align: middle;\n",
              "    }\n",
              "\n",
              "    .dataframe tbody tr th {\n",
              "        vertical-align: top;\n",
              "    }\n",
              "\n",
              "    .dataframe thead th {\n",
              "        text-align: right;\n",
              "    }\n",
              "</style>\n",
              "<table border=\"1\" class=\"dataframe\">\n",
              "  <thead>\n",
              "    <tr style=\"text-align: right;\">\n",
              "      <th></th>\n",
              "      <th>emotion</th>\n",
              "      <th>id</th>\n",
              "      <th>date</th>\n",
              "      <th>flag</th>\n",
              "      <th>user</th>\n",
              "      <th>text</th>\n",
              "    </tr>\n",
              "  </thead>\n",
              "  <tbody>\n",
              "    <tr>\n",
              "      <th>0</th>\n",
              "      <td>0</td>\n",
              "      <td>1467810369</td>\n",
              "      <td>Mon Apr 06 22:19:45 PDT 2009</td>\n",
              "      <td>NO_QUERY</td>\n",
              "      <td>_TheSpecialOne_</td>\n",
              "      <td>@switchfoot http://twitpic.com/2y1zl - Awww, t...</td>\n",
              "    </tr>\n",
              "    <tr>\n",
              "      <th>1</th>\n",
              "      <td>0</td>\n",
              "      <td>1467810672</td>\n",
              "      <td>Mon Apr 06 22:19:49 PDT 2009</td>\n",
              "      <td>NO_QUERY</td>\n",
              "      <td>scotthamilton</td>\n",
              "      <td>is upset that he can't update his Facebook by ...</td>\n",
              "    </tr>\n",
              "    <tr>\n",
              "      <th>2</th>\n",
              "      <td>0</td>\n",
              "      <td>1467810917</td>\n",
              "      <td>Mon Apr 06 22:19:53 PDT 2009</td>\n",
              "      <td>NO_QUERY</td>\n",
              "      <td>mattycus</td>\n",
              "      <td>@Kenichan I dived many times for the ball. Man...</td>\n",
              "    </tr>\n",
              "    <tr>\n",
              "      <th>3</th>\n",
              "      <td>0</td>\n",
              "      <td>1467811184</td>\n",
              "      <td>Mon Apr 06 22:19:57 PDT 2009</td>\n",
              "      <td>NO_QUERY</td>\n",
              "      <td>ElleCTF</td>\n",
              "      <td>my whole body feels itchy and like its on fire</td>\n",
              "    </tr>\n",
              "    <tr>\n",
              "      <th>4</th>\n",
              "      <td>0</td>\n",
              "      <td>1467811193</td>\n",
              "      <td>Mon Apr 06 22:19:57 PDT 2009</td>\n",
              "      <td>NO_QUERY</td>\n",
              "      <td>Karoli</td>\n",
              "      <td>@nationwideclass no, it's not behaving at all....</td>\n",
              "    </tr>\n",
              "  </tbody>\n",
              "</table>\n",
              "</div>\n",
              "      <button class=\"colab-df-convert\" onclick=\"convertToInteractive('df-164e2f2a-4826-444e-993b-e499efd5ba8a')\"\n",
              "              title=\"Convert this dataframe to an interactive table.\"\n",
              "              style=\"display:none;\">\n",
              "        \n",
              "  <svg xmlns=\"http://www.w3.org/2000/svg\" height=\"24px\"viewBox=\"0 0 24 24\"\n",
              "       width=\"24px\">\n",
              "    <path d=\"M0 0h24v24H0V0z\" fill=\"none\"/>\n",
              "    <path d=\"M18.56 5.44l.94 2.06.94-2.06 2.06-.94-2.06-.94-.94-2.06-.94 2.06-2.06.94zm-11 1L8.5 8.5l.94-2.06 2.06-.94-2.06-.94L8.5 2.5l-.94 2.06-2.06.94zm10 10l.94 2.06.94-2.06 2.06-.94-2.06-.94-.94-2.06-.94 2.06-2.06.94z\"/><path d=\"M17.41 7.96l-1.37-1.37c-.4-.4-.92-.59-1.43-.59-.52 0-1.04.2-1.43.59L10.3 9.45l-7.72 7.72c-.78.78-.78 2.05 0 2.83L4 21.41c.39.39.9.59 1.41.59.51 0 1.02-.2 1.41-.59l7.78-7.78 2.81-2.81c.8-.78.8-2.07 0-2.86zM5.41 20L4 18.59l7.72-7.72 1.47 1.35L5.41 20z\"/>\n",
              "  </svg>\n",
              "      </button>\n",
              "      \n",
              "  <style>\n",
              "    .colab-df-container {\n",
              "      display:flex;\n",
              "      flex-wrap:wrap;\n",
              "      gap: 12px;\n",
              "    }\n",
              "\n",
              "    .colab-df-convert {\n",
              "      background-color: #E8F0FE;\n",
              "      border: none;\n",
              "      border-radius: 50%;\n",
              "      cursor: pointer;\n",
              "      display: none;\n",
              "      fill: #1967D2;\n",
              "      height: 32px;\n",
              "      padding: 0 0 0 0;\n",
              "      width: 32px;\n",
              "    }\n",
              "\n",
              "    .colab-df-convert:hover {\n",
              "      background-color: #E2EBFA;\n",
              "      box-shadow: 0px 1px 2px rgba(60, 64, 67, 0.3), 0px 1px 3px 1px rgba(60, 64, 67, 0.15);\n",
              "      fill: #174EA6;\n",
              "    }\n",
              "\n",
              "    [theme=dark] .colab-df-convert {\n",
              "      background-color: #3B4455;\n",
              "      fill: #D2E3FC;\n",
              "    }\n",
              "\n",
              "    [theme=dark] .colab-df-convert:hover {\n",
              "      background-color: #434B5C;\n",
              "      box-shadow: 0px 1px 3px 1px rgba(0, 0, 0, 0.15);\n",
              "      filter: drop-shadow(0px 1px 2px rgba(0, 0, 0, 0.3));\n",
              "      fill: #FFFFFF;\n",
              "    }\n",
              "  </style>\n",
              "\n",
              "      <script>\n",
              "        const buttonEl =\n",
              "          document.querySelector('#df-164e2f2a-4826-444e-993b-e499efd5ba8a button.colab-df-convert');\n",
              "        buttonEl.style.display =\n",
              "          google.colab.kernel.accessAllowed ? 'block' : 'none';\n",
              "\n",
              "        async function convertToInteractive(key) {\n",
              "          const element = document.querySelector('#df-164e2f2a-4826-444e-993b-e499efd5ba8a');\n",
              "          const dataTable =\n",
              "            await google.colab.kernel.invokeFunction('convertToInteractive',\n",
              "                                                     [key], {});\n",
              "          if (!dataTable) return;\n",
              "\n",
              "          const docLinkHtml = 'Like what you see? Visit the ' +\n",
              "            '<a target=\"_blank\" href=https://colab.research.google.com/notebooks/data_table.ipynb>data table notebook</a>'\n",
              "            + ' to learn more about interactive tables.';\n",
              "          element.innerHTML = '';\n",
              "          dataTable['output_type'] = 'display_data';\n",
              "          await google.colab.output.renderOutput(dataTable, element);\n",
              "          const docLink = document.createElement('div');\n",
              "          docLink.innerHTML = docLinkHtml;\n",
              "          element.appendChild(docLink);\n",
              "        }\n",
              "      </script>\n",
              "    </div>\n",
              "  </div>\n",
              "  "
            ]
          },
          "metadata": {},
          "execution_count": 5
        }
      ],
      "source": [
        "data.head()"
      ]
    },
    {
      "cell_type": "markdown",
      "metadata": {
        "id": "OhbR5JJyA2VW"
      },
      "source": [
        "Выведем несколько примеров твитов, чтобы понимать, с чем мы имеем дело:"
      ]
    },
    {
      "cell_type": "code",
      "execution_count": null,
      "metadata": {
        "colab": {
          "base_uri": "https://localhost:8080/"
        },
        "id": "kCBwe0wR83C2",
        "outputId": "19df4bc4-f42f-4549-91b5-61925ac91ae3"
      },
      "outputs": [
        {
          "output_type": "stream",
          "name": "stdout",
          "text": [
            "@Claire_Nelson i'm on the north devon coast the next few weeks  will be down in Devon again in may sometime i hope though!\n",
            "@jhicks  i will think of you on Sunday!   Who are you by the way?  i am Val.\n",
            "Out in the garden with the kids debating whether to cut grass, plant flowers, move stones or just do nothing \n",
            "@FrVerona thank u my love...u've shown me the light   fuck that...nothing would be left to the imagination there...\n",
            "is with @jonasbrosfan1  going to buy LVATT together!!  everyone go buy it tomorrow!! \n",
            "follow @peterfacinelli and he will win a bet! team carlisle!! \n",
            "CLEANING!. Gosh darn it , but on the plus side i am finding quiet the treasure \n",
            "@Teddy_Salad Tears ok, cleansing of the soul &amp; just guess mine was needing some good laundrying LOL c now I'm ok &amp; hope u 2, Jody &amp;all \n",
            "@MissKellyO  morning, life is good, skint but the sun is out \n",
            "I miss school and my friends \n"
          ]
        }
      ],
      "source": [
        "examples = data[\"text\"].sample(10)\n",
        "print(\"\\n\".join(examples))"
      ]
    },
    {
      "cell_type": "markdown",
      "metadata": {
        "id": "GvcYW8aX3mKt"
      },
      "source": [
        "Как видим, тексты твитов очень \"грязные\". Нужно предобработать датасет, прежде чем строить для него модель классификации.\n",
        "\n",
        "Чтобы сравнивать различные методы обработки, разделим датасет на dev(для обучения модели) и test(для получения качества модели)."
      ]
    },
    {
      "cell_type": "code",
      "execution_count": null,
      "metadata": {
        "id": "f8hUK-jnQg6O"
      },
      "outputs": [],
      "source": [
        "indexes = np.arange(data.shape[0])\n",
        "np.random.shuffle(indexes) \n",
        "dev_size = math.ceil(data.shape[0] * 0.8)\n",
        "\n",
        "dev_indexes = indexes[:dev_size]\n",
        "test_indexes = indexes[dev_size:]\n",
        "\n",
        "dev_data = data.iloc[dev_indexes]\n",
        "test_data = data.iloc[test_indexes]\n",
        "\n",
        "dev_data.reset_index(drop=True, inplace=True)\n",
        "test_data.reset_index(drop=True, inplace=True)"
      ]
    },
    {
      "cell_type": "markdown",
      "metadata": {
        "id": "6ivcpeFoCnZA"
      },
      "source": [
        "## Обработка текста"
      ]
    },
    {
      "cell_type": "markdown",
      "metadata": {
        "id": "Df4nca285Dar"
      },
      "source": [
        "Токенизируем текст, избавимся от знаков пунктуации и выкинем все слова, состоящие менее чем из 4 букв:"
      ]
    },
    {
      "cell_type": "code",
      "execution_count": null,
      "metadata": {
        "colab": {
          "base_uri": "https://localhost:8080/"
        },
        "id": "nsNHNDES9ZVF",
        "outputId": "437571ac-17b3-49ad-f139-3ee8f5c7b95d"
      },
      "outputs": [
        {
          "output_type": "stream",
          "name": "stdout",
          "text": [
            "['@', 'chrishasboobs', 'ahhh', 'i', 'hope', 'your', 'ok', '!!!']\n"
          ]
        }
      ],
      "source": [
        "tokenizer = nltk.WordPunctTokenizer()\n",
        "line = tokenizer.tokenize(dev_data[\"text\"][0].lower())\n",
        "print(line)"
      ]
    },
    {
      "cell_type": "code",
      "execution_count": null,
      "metadata": {
        "colab": {
          "base_uri": "https://localhost:8080/"
        },
        "id": "GcBS_u_hTuxp",
        "outputId": "d9c4e33e-1a63-4c67-c8f4-a01ba277a714"
      },
      "outputs": [
        {
          "output_type": "stream",
          "name": "stdout",
          "text": [
            "['chrishasboobs', 'ahhh', 'hope', 'your']\n"
          ]
        }
      ],
      "source": [
        "filtered_line = [w for w in line if all(c not in string.punctuation for c in w) and len(w) > 3]\n",
        "print(filtered_line)"
      ]
    },
    {
      "cell_type": "markdown",
      "metadata": {
        "id": "cuFmlXkC6E7X"
      },
      "source": [
        "Загрузим предобученную модель эмбеддингов. \n",
        "\n",
        "Если хотите, можно попробовать другую. Полный список можно найти здесь: https://github.com/RaRe-Technologies/gensim-data.\n",
        "\n",
        "Данная модель выдает эмбеддинги для **слов**."
      ]
    },
    {
      "cell_type": "code",
      "execution_count": null,
      "metadata": {
        "id": "cACJpje2T5bc",
        "colab": {
          "base_uri": "https://localhost:8080/"
        },
        "outputId": "3ae21d98-e8bb-4daa-9f76-1e7bb0831541"
      },
      "outputs": [
        {
          "output_type": "stream",
          "name": "stdout",
          "text": [
            "[==================================================] 100.0% 1662.8/1662.8MB downloaded\n"
          ]
        }
      ],
      "source": [
        "word2vec = api.load(\"word2vec-google-news-300\")"
      ]
    },
    {
      "cell_type": "code",
      "execution_count": null,
      "metadata": {
        "id": "NafmYHrkT5YD",
        "colab": {
          "base_uri": "https://localhost:8080/"
        },
        "outputId": "91d5124f-0d7c-4d92-84db-7179f04f2ae4"
      },
      "outputs": [
        {
          "output_type": "stream",
          "name": "stdout",
          "text": [
            "(300,)\n"
          ]
        }
      ],
      "source": [
        "emb_line = [word2vec.get_vector(w) for w in filtered_line if w in word2vec]\n",
        "print(sum(emb_line).shape)"
      ]
    },
    {
      "cell_type": "markdown",
      "metadata": {
        "id": "LTS6LCkd6_E7"
      },
      "source": [
        "Нормализуем эмбеддинги, прежде чем обучать на них сеть."
      ]
    },
    {
      "cell_type": "code",
      "execution_count": null,
      "metadata": {
        "id": "3PyLTZ6xf3Oq",
        "colab": {
          "base_uri": "https://localhost:8080/"
        },
        "outputId": "40470fa9-405a-42c2-fd73-c9c6549479f9"
      },
      "outputs": [
        {
          "output_type": "stream",
          "name": "stdout",
          "text": [
            "(300,)\n",
            "[False, False, False]\n"
          ]
        }
      ],
      "source": [
        "mean = np.mean(word2vec.vectors, 0)\n",
        "std = np.std(word2vec.vectors, 0)\n",
        "norm_emb_line = [(word2vec.get_vector(w) - mean) / std for w in filtered_line if w in word2vec and len(w) > 3]\n",
        "print(sum(norm_emb_line).shape)\n",
        "print([all(norm_emb_line[i] == emb_line[i]) for i in range(len(emb_line))])"
      ]
    },
    {
      "cell_type": "markdown",
      "metadata": {
        "id": "q7vm6Ppd7Ubw"
      },
      "source": [
        "Сделаем датасет, который будет по запросу возвращать подготовленные данные."
      ]
    },
    {
      "cell_type": "code",
      "execution_count": null,
      "metadata": {
        "id": "b4eZajF7pZ1X"
      },
      "outputs": [],
      "source": [
        "from torch.utils.data import Dataset, random_split\n",
        "\n",
        "\n",
        "class TwitterDataset(Dataset):\n",
        "    def __init__(self, data: pd.DataFrame, feature_column: str, target_column: str, word2vec: gensim.models.Word2Vec):        \n",
        "        self.data = data\n",
        "\n",
        "        self.feature_column = feature_column\n",
        "        self.target_column = target_column\n",
        "\n",
        "        self.word2vec = word2vec\n",
        "        self.tokenizer = nltk.WordPunctTokenizer()\n",
        "\n",
        "        self.label2num = lambda label: 0 if label == 0 else 1\n",
        "        self.mean = np.mean(word2vec.vectors, axis=0)\n",
        "        self.std = np.std(word2vec.vectors, axis=0)\n",
        "\n",
        "    def __getitem__(self, item):\n",
        "        text = self.data[self.feature_column][item]\n",
        "        label = self.label2num(self.data[self.target_column][item])\n",
        "\n",
        "        tokens = self.get_tokens_(text)\n",
        "        embeddings = self.get_embeddings_(tokens)\n",
        "\n",
        "        return {\"feature\": embeddings, \"target\": label}\n",
        "\n",
        "    def get_tokens_(self, text):\n",
        "        tokens = self.tokenizer.tokenize(text.lower())\n",
        "        filtered_tokens = [w for w in tokens if (c not in string.punctuation for c in w) and len(w) > 3]\n",
        "        return filtered_tokens\n",
        "\n",
        "    def get_embeddings_(self, tokens):\n",
        "        embeddings = []\n",
        "        for w in tokens:\n",
        "            if w in self.word2vec:\n",
        "                embeddings.append((self.word2vec.get_vector(w) - self.mean) / self.std)\n",
        "\n",
        "        if len(embeddings) == 0:\n",
        "            embeddings = np.zeros((1, self.word2vec.vector_size))\n",
        "        else:\n",
        "            embeddings = np.array(embeddings)\n",
        "            if len(embeddings.shape) == 1:\n",
        "                embeddings = embeddings.reshape(-1, 1)\n",
        "\n",
        "        return embeddings\n",
        "\n",
        "    def __len__(self):\n",
        "        return self.data.shape[0]"
      ]
    },
    {
      "cell_type": "code",
      "execution_count": null,
      "metadata": {
        "id": "IZJpttbXpZyz"
      },
      "outputs": [],
      "source": [
        "dev = TwitterDataset(dev_data, \"text\", \"emotion\", word2vec)"
      ]
    },
    {
      "cell_type": "markdown",
      "metadata": {
        "id": "Sr-aetH0_LH1"
      },
      "source": [
        "Превращать твиты в векторы, используя эмбеддинги слов, можно несколькими способами. А именно такими:"
      ]
    },
    {
      "cell_type": "markdown",
      "metadata": {
        "id": "4AhHrWa196Yc"
      },
      "source": [
        "## Average embedding\n",
        "---\n",
        "Это самый простой вариант, как получить вектор предложения, используя векторные представления слов в предложении. А именно: вектор предложения есть средний вектор всех слов в предложении (которые остались после токенизации и удаления коротких слов, конечно). "
      ]
    },
    {
      "cell_type": "code",
      "execution_count": null,
      "metadata": {
        "id": "ScdokSW-994t",
        "colab": {
          "base_uri": "https://localhost:8080/"
        },
        "outputId": "66c78718-a444-4f3e-d263-310d7b7d92ba"
      },
      "outputs": [
        {
          "output_type": "stream",
          "name": "stdout",
          "text": [
            "1280\n"
          ]
        }
      ],
      "source": [
        "indexes = np.arange(len(dev))\n",
        "np.random.shuffle(indexes)\n",
        "example_indexes = indexes[::1000]\n",
        "\n",
        "\n",
        "examples = {\"features\": [np.sum(dev[i][\"feature\"], axis=0) for i in example_indexes], \n",
        "            \"targets\": [dev[i][\"target\"] for i in example_indexes]}\n",
        "print(len(examples[\"features\"]))"
      ]
    },
    {
      "cell_type": "markdown",
      "metadata": {
        "id": "1yGQ_lOx_1NL"
      },
      "source": [
        "Давайте сделаем визуализацию полученных векторов твитов тренировочного (dev) датасета. Так мы увидим, насколько хорошо твиты с разными target значениями отделяются друг от друга, т.е. насколько хорошо усреднение эмбеддингов слов предложения передает информацию о предложении."
      ]
    },
    {
      "cell_type": "markdown",
      "metadata": {
        "id": "LZwFksd_8uYO"
      },
      "source": [
        "Для визуализации векторов надо получить их проекцию на плоскость. Сделаем это с помощью `PCA`. Если хотите, можете вместо PCA использовать TSNE: так у вас получится более точная проекция на плоскость (а значит, более информативная, т.е. отражающая реальное положение векторов твитов в пространстве). Но TSNE будет работать намного дольше."
      ]
    },
    {
      "cell_type": "code",
      "execution_count": null,
      "metadata": {
        "id": "aKFZRSHdtIac"
      },
      "outputs": [],
      "source": [
        "from sklearn.decomposition import PCA\n",
        "\n",
        "pca = PCA(n_components=2).fit(examples[\"features\"])\n",
        "examples[\"transformed_features\"] = pca.transform(examples[\"features\"])"
      ]
    },
    {
      "cell_type": "code",
      "execution_count": null,
      "metadata": {
        "id": "szEOWdiNtIX8"
      },
      "outputs": [],
      "source": [
        "import bokeh.models as bm, bokeh.plotting as pl\n",
        "from bokeh.io import output_notebook\n",
        "output_notebook()\n",
        "\n",
        "def draw_vectors(x, y, radius=10, alpha=0.25, color='blue',\n",
        "                 width=600, height=400, show=True, **kwargs):\n",
        "    \"\"\" draws an interactive plot for data points with auxilirary info on hover \"\"\"\n",
        "    data_source = bm.ColumnDataSource({ 'x' : x, 'y' : y, 'color': color, **kwargs })\n",
        "\n",
        "    fig = pl.figure(active_scroll='wheel_zoom', width=width, height=height)\n",
        "    fig.scatter('x', 'y', size=radius, color='color', alpha=alpha, source=data_source)\n",
        "\n",
        "    fig.add_tools(bm.HoverTool(tooltips=[(key, \"@\" + key) for key in kwargs.keys()]))\n",
        "    if show: pl.show(fig)\n",
        "    return fig"
      ]
    },
    {
      "cell_type": "code",
      "execution_count": null,
      "metadata": {
        "id": "7OONK8ldtIWe",
        "colab": {
          "base_uri": "https://localhost:8080/",
          "height": 434
        },
        "outputId": "290d0727-9a05-4a2b-a502-8680500d7136"
      },
      "outputs": [
        {
          "output_type": "display_data",
          "data": {
            "application/javascript": [
              "\n",
              "(function(root) {\n",
              "  function now() {\n",
              "    return new Date();\n",
              "  }\n",
              "\n",
              "  var force = true;\n",
              "\n",
              "  if (typeof root._bokeh_onload_callbacks === \"undefined\" || force === true) {\n",
              "    root._bokeh_onload_callbacks = [];\n",
              "    root._bokeh_is_loading = undefined;\n",
              "  }\n",
              "\n",
              "  var JS_MIME_TYPE = 'application/javascript';\n",
              "  var HTML_MIME_TYPE = 'text/html';\n",
              "  var EXEC_MIME_TYPE = 'application/vnd.bokehjs_exec.v0+json';\n",
              "  var CLASS_NAME = 'output_bokeh rendered_html';\n",
              "\n",
              "  /**\n",
              "   * Render data to the DOM node\n",
              "   */\n",
              "  function render(props, node) {\n",
              "    var script = document.createElement(\"script\");\n",
              "    node.appendChild(script);\n",
              "  }\n",
              "\n",
              "  /**\n",
              "   * Handle when an output is cleared or removed\n",
              "   */\n",
              "  function handleClearOutput(event, handle) {\n",
              "    var cell = handle.cell;\n",
              "\n",
              "    var id = cell.output_area._bokeh_element_id;\n",
              "    var server_id = cell.output_area._bokeh_server_id;\n",
              "    // Clean up Bokeh references\n",
              "    if (id != null && id in Bokeh.index) {\n",
              "      Bokeh.index[id].model.document.clear();\n",
              "      delete Bokeh.index[id];\n",
              "    }\n",
              "\n",
              "    if (server_id !== undefined) {\n",
              "      // Clean up Bokeh references\n",
              "      var cmd = \"from bokeh.io.state import curstate; print(curstate().uuid_to_server['\" + server_id + \"'].get_sessions()[0].document.roots[0]._id)\";\n",
              "      cell.notebook.kernel.execute(cmd, {\n",
              "        iopub: {\n",
              "          output: function(msg) {\n",
              "            var id = msg.content.text.trim();\n",
              "            if (id in Bokeh.index) {\n",
              "              Bokeh.index[id].model.document.clear();\n",
              "              delete Bokeh.index[id];\n",
              "            }\n",
              "          }\n",
              "        }\n",
              "      });\n",
              "      // Destroy server and session\n",
              "      var cmd = \"import bokeh.io.notebook as ion; ion.destroy_server('\" + server_id + \"')\";\n",
              "      cell.notebook.kernel.execute(cmd);\n",
              "    }\n",
              "  }\n",
              "\n",
              "  /**\n",
              "   * Handle when a new output is added\n",
              "   */\n",
              "  function handleAddOutput(event, handle) {\n",
              "    var output_area = handle.output_area;\n",
              "    var output = handle.output;\n",
              "\n",
              "    // limit handleAddOutput to display_data with EXEC_MIME_TYPE content only\n",
              "    if ((output.output_type != \"display_data\") || (!Object.prototype.hasOwnProperty.call(output.data, EXEC_MIME_TYPE))) {\n",
              "      return\n",
              "    }\n",
              "\n",
              "    var toinsert = output_area.element.find(\".\" + CLASS_NAME.split(' ')[0]);\n",
              "\n",
              "    if (output.metadata[EXEC_MIME_TYPE][\"id\"] !== undefined) {\n",
              "      toinsert[toinsert.length - 1].firstChild.textContent = output.data[JS_MIME_TYPE];\n",
              "      // store reference to embed id on output_area\n",
              "      output_area._bokeh_element_id = output.metadata[EXEC_MIME_TYPE][\"id\"];\n",
              "    }\n",
              "    if (output.metadata[EXEC_MIME_TYPE][\"server_id\"] !== undefined) {\n",
              "      var bk_div = document.createElement(\"div\");\n",
              "      bk_div.innerHTML = output.data[HTML_MIME_TYPE];\n",
              "      var script_attrs = bk_div.children[0].attributes;\n",
              "      for (var i = 0; i < script_attrs.length; i++) {\n",
              "        toinsert[toinsert.length - 1].firstChild.setAttribute(script_attrs[i].name, script_attrs[i].value);\n",
              "        toinsert[toinsert.length - 1].firstChild.textContent = bk_div.children[0].textContent\n",
              "      }\n",
              "      // store reference to server id on output_area\n",
              "      output_area._bokeh_server_id = output.metadata[EXEC_MIME_TYPE][\"server_id\"];\n",
              "    }\n",
              "  }\n",
              "\n",
              "  function register_renderer(events, OutputArea) {\n",
              "\n",
              "    function append_mime(data, metadata, element) {\n",
              "      // create a DOM node to render to\n",
              "      var toinsert = this.create_output_subarea(\n",
              "        metadata,\n",
              "        CLASS_NAME,\n",
              "        EXEC_MIME_TYPE\n",
              "      );\n",
              "      this.keyboard_manager.register_events(toinsert);\n",
              "      // Render to node\n",
              "      var props = {data: data, metadata: metadata[EXEC_MIME_TYPE]};\n",
              "      render(props, toinsert[toinsert.length - 1]);\n",
              "      element.append(toinsert);\n",
              "      return toinsert\n",
              "    }\n",
              "\n",
              "    /* Handle when an output is cleared or removed */\n",
              "    events.on('clear_output.CodeCell', handleClearOutput);\n",
              "    events.on('delete.Cell', handleClearOutput);\n",
              "\n",
              "    /* Handle when a new output is added */\n",
              "    events.on('output_added.OutputArea', handleAddOutput);\n",
              "\n",
              "    /**\n",
              "     * Register the mime type and append_mime function with output_area\n",
              "     */\n",
              "    OutputArea.prototype.register_mime_type(EXEC_MIME_TYPE, append_mime, {\n",
              "      /* Is output safe? */\n",
              "      safe: true,\n",
              "      /* Index of renderer in `output_area.display_order` */\n",
              "      index: 0\n",
              "    });\n",
              "  }\n",
              "\n",
              "  // register the mime type if in Jupyter Notebook environment and previously unregistered\n",
              "  if (root.Jupyter !== undefined) {\n",
              "    var events = require('base/js/events');\n",
              "    var OutputArea = require('notebook/js/outputarea').OutputArea;\n",
              "\n",
              "    if (OutputArea.prototype.mime_types().indexOf(EXEC_MIME_TYPE) == -1) {\n",
              "      register_renderer(events, OutputArea);\n",
              "    }\n",
              "  }\n",
              "\n",
              "  \n",
              "  if (typeof (root._bokeh_timeout) === \"undefined\" || force === true) {\n",
              "    root._bokeh_timeout = Date.now() + 5000;\n",
              "    root._bokeh_failed_load = false;\n",
              "  }\n",
              "\n",
              "  var NB_LOAD_WARNING = {'data': {'text/html':\n",
              "     \"<div style='background-color: #fdd'>\\n\"+\n",
              "     \"<p>\\n\"+\n",
              "     \"BokehJS does not appear to have successfully loaded. If loading BokehJS from CDN, this \\n\"+\n",
              "     \"may be due to a slow or bad network connection. Possible fixes:\\n\"+\n",
              "     \"</p>\\n\"+\n",
              "     \"<ul>\\n\"+\n",
              "     \"<li>re-rerun `output_notebook()` to attempt to load from CDN again, or</li>\\n\"+\n",
              "     \"<li>use INLINE resources instead, as so:</li>\\n\"+\n",
              "     \"</ul>\\n\"+\n",
              "     \"<code>\\n\"+\n",
              "     \"from bokeh.resources import INLINE\\n\"+\n",
              "     \"output_notebook(resources=INLINE)\\n\"+\n",
              "     \"</code>\\n\"+\n",
              "     \"</div>\"}};\n",
              "\n",
              "  function display_loaded() {\n",
              "    var el = document.getElementById(null);\n",
              "    if (el != null) {\n",
              "      el.textContent = \"BokehJS is loading...\";\n",
              "    }\n",
              "    if (root.Bokeh !== undefined) {\n",
              "      if (el != null) {\n",
              "        el.textContent = \"BokehJS \" + root.Bokeh.version + \" successfully loaded.\";\n",
              "      }\n",
              "    } else if (Date.now() < root._bokeh_timeout) {\n",
              "      setTimeout(display_loaded, 100)\n",
              "    }\n",
              "  }\n",
              "\n",
              "\n",
              "  function run_callbacks() {\n",
              "    try {\n",
              "      root._bokeh_onload_callbacks.forEach(function(callback) {\n",
              "        if (callback != null)\n",
              "          callback();\n",
              "      });\n",
              "    } finally {\n",
              "      delete root._bokeh_onload_callbacks\n",
              "    }\n",
              "    console.debug(\"Bokeh: all callbacks have finished\");\n",
              "  }\n",
              "\n",
              "  function load_libs(css_urls, js_urls, callback) {\n",
              "    if (css_urls == null) css_urls = [];\n",
              "    if (js_urls == null) js_urls = [];\n",
              "\n",
              "    root._bokeh_onload_callbacks.push(callback);\n",
              "    if (root._bokeh_is_loading > 0) {\n",
              "      console.debug(\"Bokeh: BokehJS is being loaded, scheduling callback at\", now());\n",
              "      return null;\n",
              "    }\n",
              "    if (js_urls == null || js_urls.length === 0) {\n",
              "      run_callbacks();\n",
              "      return null;\n",
              "    }\n",
              "    console.debug(\"Bokeh: BokehJS not loaded, scheduling load and callback at\", now());\n",
              "    root._bokeh_is_loading = css_urls.length + js_urls.length;\n",
              "\n",
              "    function on_load() {\n",
              "      root._bokeh_is_loading--;\n",
              "      if (root._bokeh_is_loading === 0) {\n",
              "        console.debug(\"Bokeh: all BokehJS libraries/stylesheets loaded\");\n",
              "        run_callbacks()\n",
              "      }\n",
              "    }\n",
              "\n",
              "    function on_error(url) {\n",
              "      console.error(\"failed to load \" + url);\n",
              "    }\n",
              "\n",
              "    for (let i = 0; i < css_urls.length; i++) {\n",
              "      const url = css_urls[i];\n",
              "      const element = document.createElement(\"link\");\n",
              "      element.onload = on_load;\n",
              "      element.onerror = on_error.bind(null, url);\n",
              "      element.rel = \"stylesheet\";\n",
              "      element.type = \"text/css\";\n",
              "      element.href = url;\n",
              "      console.debug(\"Bokeh: injecting link tag for BokehJS stylesheet: \", url);\n",
              "      document.body.appendChild(element);\n",
              "    }\n",
              "\n",
              "    const hashes = {\"https://cdn.bokeh.org/bokeh/release/bokeh-2.3.3.min.js\": \"dM3QQsP+wXdHg42wTqW85BjZQdLNNIXqlPw/BgKoExPmTG7ZLML4EGqLMfqHT6ON\", \"https://cdn.bokeh.org/bokeh/release/bokeh-tables-2.3.3.min.js\": \"8x57I4YuIfu8XyZfFo0XVr2WAT8EK4rh/uDe3wF7YuW2FNUSNEpJbsPaB1nJ2fz2\", \"https://cdn.bokeh.org/bokeh/release/bokeh-widgets-2.3.3.min.js\": \"3QTqdz9LyAm2i0sG5XTePsHec3UHWwVsrOL68SYRoAXsafvfAyqtQ+h440+qIBhS\"};\n",
              "\n",
              "    for (let i = 0; i < js_urls.length; i++) {\n",
              "      const url = js_urls[i];\n",
              "      const element = document.createElement('script');\n",
              "      element.onload = on_load;\n",
              "      element.onerror = on_error.bind(null, url);\n",
              "      element.async = false;\n",
              "      element.src = url;\n",
              "      if (url in hashes) {\n",
              "        element.crossOrigin = \"anonymous\";\n",
              "        element.integrity = \"sha384-\" + hashes[url];\n",
              "      }\n",
              "      console.debug(\"Bokeh: injecting script tag for BokehJS library: \", url);\n",
              "      document.head.appendChild(element);\n",
              "    }\n",
              "  };\n",
              "\n",
              "  function inject_raw_css(css) {\n",
              "    const element = document.createElement(\"style\");\n",
              "    element.appendChild(document.createTextNode(css));\n",
              "    document.body.appendChild(element);\n",
              "  }\n",
              "\n",
              "  \n",
              "  var js_urls = [\"https://cdn.bokeh.org/bokeh/release/bokeh-2.3.3.min.js\", \"https://cdn.bokeh.org/bokeh/release/bokeh-widgets-2.3.3.min.js\", \"https://cdn.bokeh.org/bokeh/release/bokeh-tables-2.3.3.min.js\"];\n",
              "  var css_urls = [];\n",
              "  \n",
              "\n",
              "  var inline_js = [\n",
              "    function(Bokeh) {\n",
              "      Bokeh.set_log_level(\"info\");\n",
              "    },\n",
              "    function(Bokeh) {\n",
              "    \n",
              "    \n",
              "    }\n",
              "  ];\n",
              "\n",
              "  function run_inline_js() {\n",
              "    \n",
              "    if (root.Bokeh !== undefined || force === true) {\n",
              "      \n",
              "    for (var i = 0; i < inline_js.length; i++) {\n",
              "      inline_js[i].call(root, root.Bokeh);\n",
              "    }\n",
              "    } else if (Date.now() < root._bokeh_timeout) {\n",
              "      setTimeout(run_inline_js, 100);\n",
              "    } else if (!root._bokeh_failed_load) {\n",
              "      console.log(\"Bokeh: BokehJS failed to load within specified timeout.\");\n",
              "      root._bokeh_failed_load = true;\n",
              "    } else if (force !== true) {\n",
              "      var cell = $(document.getElementById(null)).parents('.cell').data().cell;\n",
              "      cell.output_area.append_execute_result(NB_LOAD_WARNING)\n",
              "    }\n",
              "\n",
              "  }\n",
              "\n",
              "  if (root._bokeh_is_loading === 0) {\n",
              "    console.debug(\"Bokeh: BokehJS loaded, going straight to plotting\");\n",
              "    run_inline_js();\n",
              "  } else {\n",
              "    load_libs(css_urls, js_urls, function() {\n",
              "      console.debug(\"Bokeh: BokehJS plotting callback run at\", now());\n",
              "      run_inline_js();\n",
              "    });\n",
              "  }\n",
              "}(window));"
            ],
            "application/vnd.bokehjs_load.v0+json": "\n(function(root) {\n  function now() {\n    return new Date();\n  }\n\n  var force = true;\n\n  if (typeof root._bokeh_onload_callbacks === \"undefined\" || force === true) {\n    root._bokeh_onload_callbacks = [];\n    root._bokeh_is_loading = undefined;\n  }\n\n  \n\n  \n  if (typeof (root._bokeh_timeout) === \"undefined\" || force === true) {\n    root._bokeh_timeout = Date.now() + 5000;\n    root._bokeh_failed_load = false;\n  }\n\n  var NB_LOAD_WARNING = {'data': {'text/html':\n     \"<div style='background-color: #fdd'>\\n\"+\n     \"<p>\\n\"+\n     \"BokehJS does not appear to have successfully loaded. If loading BokehJS from CDN, this \\n\"+\n     \"may be due to a slow or bad network connection. Possible fixes:\\n\"+\n     \"</p>\\n\"+\n     \"<ul>\\n\"+\n     \"<li>re-rerun `output_notebook()` to attempt to load from CDN again, or</li>\\n\"+\n     \"<li>use INLINE resources instead, as so:</li>\\n\"+\n     \"</ul>\\n\"+\n     \"<code>\\n\"+\n     \"from bokeh.resources import INLINE\\n\"+\n     \"output_notebook(resources=INLINE)\\n\"+\n     \"</code>\\n\"+\n     \"</div>\"}};\n\n  function display_loaded() {\n    var el = document.getElementById(null);\n    if (el != null) {\n      el.textContent = \"BokehJS is loading...\";\n    }\n    if (root.Bokeh !== undefined) {\n      if (el != null) {\n        el.textContent = \"BokehJS \" + root.Bokeh.version + \" successfully loaded.\";\n      }\n    } else if (Date.now() < root._bokeh_timeout) {\n      setTimeout(display_loaded, 100)\n    }\n  }\n\n\n  function run_callbacks() {\n    try {\n      root._bokeh_onload_callbacks.forEach(function(callback) {\n        if (callback != null)\n          callback();\n      });\n    } finally {\n      delete root._bokeh_onload_callbacks\n    }\n    console.debug(\"Bokeh: all callbacks have finished\");\n  }\n\n  function load_libs(css_urls, js_urls, callback) {\n    if (css_urls == null) css_urls = [];\n    if (js_urls == null) js_urls = [];\n\n    root._bokeh_onload_callbacks.push(callback);\n    if (root._bokeh_is_loading > 0) {\n      console.debug(\"Bokeh: BokehJS is being loaded, scheduling callback at\", now());\n      return null;\n    }\n    if (js_urls == null || js_urls.length === 0) {\n      run_callbacks();\n      return null;\n    }\n    console.debug(\"Bokeh: BokehJS not loaded, scheduling load and callback at\", now());\n    root._bokeh_is_loading = css_urls.length + js_urls.length;\n\n    function on_load() {\n      root._bokeh_is_loading--;\n      if (root._bokeh_is_loading === 0) {\n        console.debug(\"Bokeh: all BokehJS libraries/stylesheets loaded\");\n        run_callbacks()\n      }\n    }\n\n    function on_error(url) {\n      console.error(\"failed to load \" + url);\n    }\n\n    for (let i = 0; i < css_urls.length; i++) {\n      const url = css_urls[i];\n      const element = document.createElement(\"link\");\n      element.onload = on_load;\n      element.onerror = on_error.bind(null, url);\n      element.rel = \"stylesheet\";\n      element.type = \"text/css\";\n      element.href = url;\n      console.debug(\"Bokeh: injecting link tag for BokehJS stylesheet: \", url);\n      document.body.appendChild(element);\n    }\n\n    const hashes = {\"https://cdn.bokeh.org/bokeh/release/bokeh-2.3.3.min.js\": \"dM3QQsP+wXdHg42wTqW85BjZQdLNNIXqlPw/BgKoExPmTG7ZLML4EGqLMfqHT6ON\", \"https://cdn.bokeh.org/bokeh/release/bokeh-tables-2.3.3.min.js\": \"8x57I4YuIfu8XyZfFo0XVr2WAT8EK4rh/uDe3wF7YuW2FNUSNEpJbsPaB1nJ2fz2\", \"https://cdn.bokeh.org/bokeh/release/bokeh-widgets-2.3.3.min.js\": \"3QTqdz9LyAm2i0sG5XTePsHec3UHWwVsrOL68SYRoAXsafvfAyqtQ+h440+qIBhS\"};\n\n    for (let i = 0; i < js_urls.length; i++) {\n      const url = js_urls[i];\n      const element = document.createElement('script');\n      element.onload = on_load;\n      element.onerror = on_error.bind(null, url);\n      element.async = false;\n      element.src = url;\n      if (url in hashes) {\n        element.crossOrigin = \"anonymous\";\n        element.integrity = \"sha384-\" + hashes[url];\n      }\n      console.debug(\"Bokeh: injecting script tag for BokehJS library: \", url);\n      document.head.appendChild(element);\n    }\n  };\n\n  function inject_raw_css(css) {\n    const element = document.createElement(\"style\");\n    element.appendChild(document.createTextNode(css));\n    document.body.appendChild(element);\n  }\n\n  \n  var js_urls = [\"https://cdn.bokeh.org/bokeh/release/bokeh-2.3.3.min.js\", \"https://cdn.bokeh.org/bokeh/release/bokeh-widgets-2.3.3.min.js\", \"https://cdn.bokeh.org/bokeh/release/bokeh-tables-2.3.3.min.js\"];\n  var css_urls = [];\n  \n\n  var inline_js = [\n    function(Bokeh) {\n      Bokeh.set_log_level(\"info\");\n    },\n    function(Bokeh) {\n    \n    \n    }\n  ];\n\n  function run_inline_js() {\n    \n    if (root.Bokeh !== undefined || force === true) {\n      \n    for (var i = 0; i < inline_js.length; i++) {\n      inline_js[i].call(root, root.Bokeh);\n    }\n    } else if (Date.now() < root._bokeh_timeout) {\n      setTimeout(run_inline_js, 100);\n    } else if (!root._bokeh_failed_load) {\n      console.log(\"Bokeh: BokehJS failed to load within specified timeout.\");\n      root._bokeh_failed_load = true;\n    } else if (force !== true) {\n      var cell = $(document.getElementById(null)).parents('.cell').data().cell;\n      cell.output_area.append_execute_result(NB_LOAD_WARNING)\n    }\n\n  }\n\n  if (root._bokeh_is_loading === 0) {\n    console.debug(\"Bokeh: BokehJS loaded, going straight to plotting\");\n    run_inline_js();\n  } else {\n    load_libs(css_urls, js_urls, function() {\n      console.debug(\"Bokeh: BokehJS plotting callback run at\", now());\n      run_inline_js();\n    });\n  }\n}(window));"
          },
          "metadata": {}
        },
        {
          "output_type": "display_data",
          "data": {
            "text/html": [
              "\n",
              "\n",
              "\n",
              "\n",
              "\n",
              "\n",
              "  <div class=\"bk-root\" id=\"d0f88324-f2d4-43a5-a860-06719c049ff8\" data-root-id=\"1003\"></div>\n"
            ]
          },
          "metadata": {}
        },
        {
          "output_type": "display_data",
          "data": {
            "application/javascript": [
              "(function(root) {\n",
              "  function embed_document(root) {\n",
              "    \n",
              "  var docs_json = {\"c110d25d-b81b-4535-9009-0a4ba7f6fc05\":{\"defs\":[],\"roots\":{\"references\":[{\"attributes\":{\"below\":[{\"id\":\"1012\"}],\"center\":[{\"id\":\"1015\"},{\"id\":\"1019\"}],\"height\":400,\"left\":[{\"id\":\"1016\"}],\"renderers\":[{\"id\":\"1037\"}],\"title\":{\"id\":\"1042\"},\"toolbar\":{\"id\":\"1027\"},\"x_range\":{\"id\":\"1004\"},\"x_scale\":{\"id\":\"1008\"},\"y_range\":{\"id\":\"1006\"},\"y_scale\":{\"id\":\"1010\"}},\"id\":\"1003\",\"subtype\":\"Figure\",\"type\":\"Plot\"},{\"attributes\":{},\"id\":\"1051\",\"type\":\"UnionRenderers\"},{\"attributes\":{\"overlay\":{\"id\":\"1026\"}},\"id\":\"1022\",\"type\":\"BoxZoomTool\"},{\"attributes\":{\"data\":{\"color\":[\"blue\",\"red\",\"blue\",\"blue\",\"blue\",\"red\",\"red\",\"blue\",\"red\",\"blue\",\"blue\",\"blue\",\"red\",\"red\",\"red\",\"red\",\"red\",\"blue\",\"blue\",\"red\",\"red\",\"blue\",\"blue\",\"red\",\"blue\",\"blue\",\"blue\",\"blue\",\"red\",\"blue\",\"blue\",\"red\",\"blue\",\"red\",\"blue\",\"blue\",\"blue\",\"red\",\"blue\",\"red\",\"blue\",\"red\",\"blue\",\"blue\",\"red\",\"red\",\"red\",\"blue\",\"red\",\"blue\",\"red\",\"red\",\"blue\",\"blue\",\"red\",\"blue\",\"blue\",\"blue\",\"red\",\"red\",\"red\",\"red\",\"blue\",\"red\",\"red\",\"red\",\"red\",\"red\",\"red\",\"blue\",\"red\",\"blue\",\"blue\",\"blue\",\"red\",\"red\",\"red\",\"blue\",\"red\",\"blue\",\"blue\",\"red\",\"red\",\"red\",\"red\",\"blue\",\"blue\",\"blue\",\"blue\",\"blue\",\"red\",\"red\",\"blue\",\"blue\",\"blue\",\"red\",\"red\",\"blue\",\"red\",\"red\",\"red\",\"blue\",\"blue\",\"blue\",\"red\",\"blue\",\"red\",\"blue\",\"red\",\"red\",\"blue\",\"red\",\"blue\",\"red\",\"red\",\"red\",\"red\",\"blue\",\"red\",\"red\",\"blue\",\"blue\",\"blue\",\"blue\",\"blue\",\"blue\",\"red\",\"blue\",\"red\",\"blue\",\"red\",\"red\",\"red\",\"red\",\"blue\",\"red\",\"red\",\"blue\",\"red\",\"blue\",\"blue\",\"red\",\"red\",\"red\",\"red\",\"red\",\"blue\",\"red\",\"red\",\"blue\",\"blue\",\"red\",\"blue\",\"red\",\"red\",\"blue\",\"red\",\"red\",\"red\",\"blue\",\"red\",\"blue\",\"blue\",\"red\",\"red\",\"red\",\"red\",\"red\",\"blue\",\"red\",\"red\",\"red\",\"blue\",\"red\",\"red\",\"blue\",\"blue\",\"blue\",\"red\",\"red\",\"blue\",\"red\",\"red\",\"blue\",\"blue\",\"blue\",\"red\",\"blue\",\"red\",\"blue\",\"red\",\"red\",\"blue\",\"blue\",\"red\",\"blue\",\"blue\",\"blue\",\"blue\",\"blue\",\"blue\",\"blue\",\"red\",\"blue\",\"red\",\"blue\",\"red\",\"blue\",\"blue\",\"blue\",\"red\",\"red\",\"red\",\"blue\",\"red\",\"blue\",\"blue\",\"blue\",\"blue\",\"blue\",\"blue\",\"blue\",\"blue\",\"red\",\"blue\",\"blue\",\"blue\",\"blue\",\"blue\",\"red\",\"blue\",\"red\",\"red\",\"blue\",\"blue\",\"red\",\"red\",\"blue\",\"blue\",\"red\",\"red\",\"red\",\"red\",\"blue\",\"red\",\"blue\",\"blue\",\"blue\",\"blue\",\"blue\",\"blue\",\"red\",\"blue\",\"blue\",\"blue\",\"blue\",\"red\",\"red\",\"blue\",\"blue\",\"blue\",\"blue\",\"blue\",\"blue\",\"blue\",\"blue\",\"red\",\"blue\",\"blue\",\"blue\",\"red\",\"red\",\"red\",\"red\",\"red\",\"blue\",\"blue\",\"red\",\"blue\",\"blue\",\"blue\",\"blue\",\"red\",\"blue\",\"blue\",\"blue\",\"red\",\"red\",\"red\",\"blue\",\"blue\",\"red\",\"red\",\"blue\",\"blue\",\"red\",\"red\",\"blue\",\"red\",\"blue\",\"blue\",\"red\",\"blue\",\"blue\",\"red\",\"blue\",\"blue\",\"blue\",\"blue\",\"blue\",\"blue\",\"red\",\"blue\",\"red\",\"red\",\"blue\",\"blue\",\"red\",\"blue\",\"red\",\"red\",\"blue\",\"red\",\"red\",\"blue\",\"red\",\"red\",\"blue\",\"red\",\"red\",\"red\",\"blue\",\"red\",\"blue\",\"blue\",\"blue\",\"blue\",\"blue\",\"blue\",\"blue\",\"blue\",\"red\",\"blue\",\"red\",\"blue\",\"blue\",\"blue\",\"red\",\"blue\",\"blue\",\"blue\",\"red\",\"blue\",\"red\",\"red\",\"red\",\"red\",\"red\",\"red\",\"blue\",\"blue\",\"red\",\"blue\",\"blue\",\"red\",\"blue\",\"blue\",\"blue\",\"red\",\"blue\",\"red\",\"blue\",\"red\",\"blue\",\"red\",\"red\",\"blue\",\"red\",\"blue\",\"red\",\"blue\",\"red\",\"red\",\"red\",\"blue\",\"blue\",\"blue\",\"blue\",\"red\",\"red\",\"blue\",\"blue\",\"blue\",\"blue\",\"red\",\"blue\",\"blue\",\"red\",\"blue\",\"red\",\"red\",\"red\",\"blue\",\"blue\",\"blue\",\"red\",\"blue\",\"red\",\"red\",\"red\",\"red\",\"red\",\"blue\",\"red\",\"blue\",\"red\",\"red\",\"red\",\"blue\",\"red\",\"blue\",\"red\",\"blue\",\"blue\",\"red\",\"red\",\"blue\",\"red\",\"red\",\"blue\",\"red\",\"red\",\"blue\",\"blue\",\"blue\",\"blue\",\"red\",\"red\",\"blue\",\"red\",\"red\",\"blue\",\"red\",\"blue\",\"blue\",\"blue\",\"blue\",\"blue\",\"blue\",\"red\",\"blue\",\"blue\",\"blue\",\"red\",\"red\",\"blue\",\"red\",\"red\",\"red\",\"red\",\"red\",\"red\",\"blue\",\"blue\",\"red\",\"blue\",\"red\",\"blue\",\"red\",\"blue\",\"red\",\"blue\",\"blue\",\"blue\",\"blue\",\"blue\",\"blue\",\"blue\",\"blue\",\"blue\",\"red\",\"blue\",\"red\",\"red\",\"red\",\"red\",\"red\",\"red\",\"blue\",\"blue\",\"red\",\"red\",\"red\",\"blue\",\"red\",\"blue\",\"blue\",\"red\",\"blue\",\"red\",\"red\",\"red\",\"blue\",\"red\",\"blue\",\"blue\",\"red\",\"blue\",\"red\",\"red\",\"blue\",\"red\",\"blue\",\"blue\",\"blue\",\"red\",\"blue\",\"red\",\"red\",\"blue\",\"red\",\"blue\",\"red\",\"red\",\"blue\",\"red\",\"red\",\"red\",\"blue\",\"blue\",\"red\",\"red\",\"red\",\"blue\",\"blue\",\"blue\",\"blue\",\"blue\",\"blue\",\"red\",\"red\",\"blue\",\"red\",\"blue\",\"red\",\"red\",\"blue\",\"red\",\"blue\",\"blue\",\"blue\",\"blue\",\"blue\",\"blue\",\"red\",\"red\",\"blue\",\"red\",\"blue\",\"blue\",\"red\",\"blue\",\"red\",\"red\",\"blue\",\"red\",\"red\",\"blue\",\"red\",\"blue\",\"red\",\"red\",\"blue\",\"blue\",\"blue\",\"red\",\"red\",\"red\",\"blue\",\"blue\",\"blue\",\"red\",\"red\",\"blue\",\"red\",\"blue\",\"blue\",\"red\",\"red\",\"blue\",\"blue\",\"red\",\"red\",\"blue\",\"red\",\"blue\",\"red\",\"blue\",\"blue\",\"blue\",\"blue\",\"blue\",\"red\",\"blue\",\"blue\",\"red\",\"red\",\"blue\",\"blue\",\"blue\",\"red\",\"blue\",\"red\",\"red\",\"red\",\"blue\",\"red\",\"red\",\"blue\",\"red\",\"red\",\"blue\",\"blue\",\"red\",\"blue\",\"blue\",\"red\",\"red\",\"red\",\"blue\",\"blue\",\"red\",\"blue\",\"blue\",\"blue\",\"red\",\"blue\",\"red\",\"blue\",\"blue\",\"red\",\"red\",\"red\",\"red\",\"red\",\"blue\",\"blue\",\"red\",\"blue\",\"red\",\"red\",\"red\",\"red\",\"blue\",\"red\",\"red\",\"blue\",\"blue\",\"blue\",\"red\",\"red\",\"red\",\"blue\",\"red\",\"red\",\"blue\",\"red\",\"blue\",\"blue\",\"red\",\"red\",\"red\",\"blue\",\"blue\",\"red\",\"red\",\"blue\",\"red\",\"blue\",\"red\",\"blue\",\"blue\",\"red\",\"red\",\"blue\",\"red\",\"blue\",\"blue\",\"blue\",\"red\",\"blue\",\"blue\",\"blue\",\"blue\",\"red\",\"blue\",\"blue\",\"blue\",\"blue\",\"red\",\"red\",\"blue\",\"red\",\"blue\",\"blue\",\"blue\",\"red\",\"red\",\"blue\",\"blue\",\"blue\",\"red\",\"red\",\"blue\",\"red\",\"red\",\"blue\",\"red\",\"red\",\"blue\",\"red\",\"blue\",\"blue\",\"blue\",\"red\",\"blue\",\"red\",\"red\",\"blue\",\"red\",\"red\",\"red\",\"blue\",\"red\",\"red\",\"blue\",\"blue\",\"red\",\"red\",\"blue\",\"red\",\"red\",\"blue\",\"blue\",\"red\",\"red\",\"blue\",\"blue\",\"blue\",\"blue\",\"blue\",\"red\",\"blue\",\"blue\",\"red\",\"blue\",\"red\",\"red\",\"red\",\"red\",\"red\",\"blue\",\"blue\",\"red\",\"blue\",\"blue\",\"blue\",\"red\",\"red\",\"red\",\"blue\",\"blue\",\"blue\",\"blue\",\"red\",\"red\",\"red\",\"blue\",\"blue\",\"red\",\"blue\",\"red\",\"blue\",\"red\",\"blue\",\"blue\",\"red\",\"blue\",\"red\",\"red\",\"red\",\"blue\",\"blue\",\"blue\",\"blue\",\"red\",\"blue\",\"blue\",\"red\",\"red\",\"red\",\"blue\",\"red\",\"blue\",\"blue\",\"blue\",\"blue\",\"blue\",\"blue\",\"red\",\"blue\",\"blue\",\"blue\",\"blue\",\"red\",\"blue\",\"blue\",\"red\",\"blue\",\"red\",\"red\",\"blue\",\"red\",\"red\",\"red\",\"red\",\"blue\",\"blue\",\"blue\",\"blue\",\"red\",\"red\",\"red\",\"red\",\"red\",\"red\",\"red\",\"blue\",\"red\",\"red\",\"blue\",\"blue\",\"blue\",\"blue\",\"blue\",\"blue\",\"blue\",\"red\",\"blue\",\"blue\",\"red\",\"blue\",\"blue\",\"blue\",\"blue\",\"red\",\"blue\",\"red\",\"red\",\"red\",\"blue\",\"red\",\"red\",\"red\",\"red\",\"red\",\"blue\",\"red\",\"blue\",\"red\",\"blue\",\"blue\",\"blue\",\"red\",\"red\",\"red\",\"blue\",\"red\",\"red\",\"blue\",\"red\",\"blue\",\"blue\",\"red\",\"red\",\"blue\",\"red\",\"red\",\"blue\",\"red\",\"red\",\"red\",\"blue\",\"red\",\"blue\",\"red\",\"blue\",\"blue\",\"red\",\"blue\",\"red\",\"blue\",\"red\",\"red\",\"red\",\"red\",\"blue\",\"blue\",\"blue\",\"blue\",\"red\",\"red\",\"red\",\"blue\",\"blue\",\"blue\",\"red\",\"red\",\"red\",\"red\",\"blue\",\"blue\",\"blue\",\"blue\",\"blue\",\"blue\",\"blue\",\"blue\",\"blue\",\"red\",\"red\",\"blue\",\"red\",\"blue\",\"blue\",\"red\",\"blue\",\"blue\",\"red\",\"red\",\"blue\",\"red\",\"red\",\"red\",\"blue\",\"red\",\"red\",\"blue\",\"blue\",\"blue\",\"red\",\"blue\",\"red\",\"red\",\"red\",\"blue\",\"blue\",\"red\",\"red\",\"blue\",\"red\",\"blue\",\"red\",\"red\",\"red\",\"blue\",\"red\",\"red\",\"red\",\"red\",\"blue\",\"blue\",\"red\",\"red\",\"red\",\"red\",\"red\",\"red\",\"red\",\"blue\",\"blue\",\"blue\",\"red\",\"blue\",\"blue\",\"red\",\"blue\",\"blue\",\"blue\",\"red\",\"red\",\"red\",\"red\",\"red\",\"blue\",\"red\",\"red\",\"blue\",\"red\",\"red\",\"red\",\"blue\",\"red\",\"blue\",\"red\",\"red\",\"blue\",\"blue\",\"red\",\"red\",\"blue\",\"blue\",\"blue\",\"blue\",\"blue\",\"red\",\"blue\",\"blue\",\"blue\",\"red\",\"blue\",\"blue\",\"blue\",\"blue\",\"red\",\"red\",\"red\",\"red\",\"red\",\"blue\",\"red\",\"red\",\"red\",\"red\",\"red\",\"red\",\"blue\",\"blue\",\"blue\",\"blue\",\"blue\",\"red\",\"red\",\"red\",\"red\",\"red\",\"red\",\"red\",\"red\",\"red\",\"blue\",\"blue\",\"red\",\"red\",\"red\",\"blue\",\"blue\",\"red\",\"blue\",\"red\",\"blue\",\"red\",\"red\",\"blue\",\"red\",\"blue\",\"red\",\"blue\",\"red\",\"red\",\"red\",\"red\",\"red\",\"red\",\"red\",\"red\",\"red\",\"red\",\"blue\",\"red\",\"red\",\"red\",\"blue\",\"blue\",\"red\",\"blue\",\"blue\",\"blue\",\"red\",\"red\",\"blue\",\"red\",\"blue\",\"red\",\"blue\",\"blue\",\"red\",\"blue\",\"blue\",\"blue\",\"blue\",\"blue\",\"blue\",\"red\",\"blue\",\"red\",\"blue\",\"red\",\"blue\",\"red\",\"red\",\"red\",\"red\",\"red\",\"red\",\"red\",\"red\",\"red\",\"red\",\"red\",\"red\",\"red\",\"red\",\"blue\",\"blue\",\"blue\",\"blue\",\"blue\",\"red\",\"red\",\"blue\",\"blue\",\"red\",\"red\",\"red\",\"red\",\"blue\",\"red\",\"blue\",\"blue\",\"blue\",\"blue\",\"blue\",\"blue\",\"blue\",\"blue\",\"red\",\"blue\",\"blue\",\"blue\",\"blue\",\"blue\",\"red\",\"blue\",\"blue\",\"blue\",\"red\",\"red\",\"red\",\"red\",\"red\",\"red\",\"blue\",\"red\",\"red\",\"red\",\"red\",\"blue\",\"red\",\"red\",\"blue\",\"red\",\"red\",\"red\",\"blue\",\"blue\",\"red\",\"blue\",\"blue\",\"blue\",\"red\",\"red\",\"blue\",\"red\",\"blue\",\"blue\",\"blue\",\"blue\",\"red\",\"blue\",\"blue\",\"red\",\"red\",\"red\",\"red\",\"blue\",\"red\",\"blue\",\"red\",\"blue\",\"red\",\"blue\",\"red\",\"red\",\"blue\",\"red\",\"red\",\"blue\",\"blue\",\"blue\",\"red\",\"red\",\"blue\",\"red\",\"blue\",\"blue\",\"blue\",\"blue\",\"blue\",\"blue\",\"blue\",\"blue\",\"red\",\"blue\",\"blue\",\"blue\",\"blue\",\"blue\",\"blue\",\"red\",\"red\",\"blue\",\"blue\",\"blue\",\"blue\",\"blue\",\"red\",\"red\",\"blue\",\"red\",\"red\",\"red\",\"red\",\"red\",\"blue\",\"red\",\"red\",\"red\",\"red\",\"blue\",\"red\",\"blue\",\"blue\",\"blue\",\"blue\",\"blue\",\"red\",\"red\",\"blue\",\"blue\",\"blue\",\"red\",\"blue\",\"red\",\"blue\",\"blue\",\"red\",\"blue\",\"red\",\"red\",\"blue\",\"red\",\"red\",\"red\",\"blue\",\"red\",\"blue\",\"red\",\"blue\",\"red\"],\"x\":{\"__ndarray__\":\"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\",\"dtype\":\"float64\",\"order\":\"little\",\"shape\":[1280]},\"y\":{\"__ndarray__\":\"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\",\"dtype\":\"float64\",\"order\":\"little\",\"shape\":[1280]}},\"selected\":{\"id\":\"1050\"},\"selection_policy\":{\"id\":\"1051\"}},\"id\":\"1002\",\"type\":\"ColumnDataSource\"},{\"attributes\":{},\"id\":\"1020\",\"type\":\"PanTool\"},{\"attributes\":{},\"id\":\"1006\",\"type\":\"DataRange1d\"},{\"attributes\":{},\"id\":\"1021\",\"type\":\"WheelZoomTool\"},{\"attributes\":{\"callback\":null,\"tooltips\":[]},\"id\":\"1039\",\"type\":\"HoverTool\"},{\"attributes\":{},\"id\":\"1042\",\"type\":\"Title\"},{\"attributes\":{\"formatter\":{\"id\":\"1046\"},\"major_label_policy\":{\"id\":\"1047\"},\"ticker\":{\"id\":\"1017\"}},\"id\":\"1016\",\"type\":\"LinearAxis\"},{\"attributes\":{\"fill_alpha\":{\"value\":0.25},\"fill_color\":{\"field\":\"color\"},\"line_alpha\":{\"value\":0.25},\"line_color\":{\"field\":\"color\"},\"size\":{\"value\":10},\"x\":{\"field\":\"x\"},\"y\":{\"field\":\"y\"}},\"id\":\"1035\",\"type\":\"Scatter\"},{\"attributes\":{},\"id\":\"1050\",\"type\":\"Selection\"},{\"attributes\":{},\"id\":\"1004\",\"type\":\"DataRange1d\"},{\"attributes\":{\"axis\":{\"id\":\"1016\"},\"dimension\":1,\"ticker\":null},\"id\":\"1019\",\"type\":\"Grid\"},{\"attributes\":{},\"id\":\"1043\",\"type\":\"BasicTickFormatter\"},{\"attributes\":{},\"id\":\"1010\",\"type\":\"LinearScale\"},{\"attributes\":{\"source\":{\"id\":\"1002\"}},\"id\":\"1038\",\"type\":\"CDSView\"},{\"attributes\":{},\"id\":\"1047\",\"type\":\"AllLabels\"},{\"attributes\":{},\"id\":\"1023\",\"type\":\"SaveTool\"},{\"attributes\":{},\"id\":\"1025\",\"type\":\"HelpTool\"},{\"attributes\":{\"formatter\":{\"id\":\"1043\"},\"major_label_policy\":{\"id\":\"1044\"},\"ticker\":{\"id\":\"1013\"}},\"id\":\"1012\",\"type\":\"LinearAxis\"},{\"attributes\":{\"bottom_units\":\"screen\",\"fill_alpha\":0.5,\"fill_color\":\"lightgrey\",\"left_units\":\"screen\",\"level\":\"overlay\",\"line_alpha\":1.0,\"line_color\":\"black\",\"line_dash\":[4,4],\"line_width\":2,\"right_units\":\"screen\",\"syncable\":false,\"top_units\":\"screen\"},\"id\":\"1026\",\"type\":\"BoxAnnotation\"},{\"attributes\":{},\"id\":\"1008\",\"type\":\"LinearScale\"},{\"attributes\":{\"active_multi\":null,\"active_scroll\":{\"id\":\"1021\"},\"tools\":[{\"id\":\"1020\"},{\"id\":\"1021\"},{\"id\":\"1022\"},{\"id\":\"1023\"},{\"id\":\"1024\"},{\"id\":\"1025\"},{\"id\":\"1039\"}]},\"id\":\"1027\",\"type\":\"Toolbar\"},{\"attributes\":{},\"id\":\"1024\",\"type\":\"ResetTool\"},{\"attributes\":{},\"id\":\"1046\",\"type\":\"BasicTickFormatter\"},{\"attributes\":{},\"id\":\"1044\",\"type\":\"AllLabels\"},{\"attributes\":{},\"id\":\"1017\",\"type\":\"BasicTicker\"},{\"attributes\":{\"data_source\":{\"id\":\"1002\"},\"glyph\":{\"id\":\"1035\"},\"hover_glyph\":null,\"muted_glyph\":null,\"nonselection_glyph\":{\"id\":\"1036\"},\"view\":{\"id\":\"1038\"}},\"id\":\"1037\",\"type\":\"GlyphRenderer\"},{\"attributes\":{\"fill_alpha\":{\"value\":0.1},\"fill_color\":{\"field\":\"color\"},\"line_alpha\":{\"value\":0.1},\"line_color\":{\"field\":\"color\"},\"size\":{\"value\":10},\"x\":{\"field\":\"x\"},\"y\":{\"field\":\"y\"}},\"id\":\"1036\",\"type\":\"Scatter\"},{\"attributes\":{\"axis\":{\"id\":\"1012\"},\"ticker\":null},\"id\":\"1015\",\"type\":\"Grid\"},{\"attributes\":{},\"id\":\"1013\",\"type\":\"BasicTicker\"}],\"root_ids\":[\"1003\"]},\"title\":\"Bokeh Application\",\"version\":\"2.3.3\"}};\n",
              "  var render_items = [{\"docid\":\"c110d25d-b81b-4535-9009-0a4ba7f6fc05\",\"root_ids\":[\"1003\"],\"roots\":{\"1003\":\"d0f88324-f2d4-43a5-a860-06719c049ff8\"}}];\n",
              "  root.Bokeh.embed.embed_items_notebook(docs_json, render_items);\n",
              "\n",
              "  }\n",
              "  if (root.Bokeh !== undefined) {\n",
              "    embed_document(root);\n",
              "  } else {\n",
              "    var attempts = 0;\n",
              "    var timer = setInterval(function(root) {\n",
              "      if (root.Bokeh !== undefined) {\n",
              "        clearInterval(timer);\n",
              "        embed_document(root);\n",
              "      } else {\n",
              "        attempts++;\n",
              "        if (attempts > 100) {\n",
              "          clearInterval(timer);\n",
              "          console.log(\"Bokeh: ERROR: Unable to run BokehJS code because BokehJS library is missing\");\n",
              "        }\n",
              "      }\n",
              "    }, 10, root)\n",
              "  }\n",
              "})(window);"
            ],
            "application/vnd.bokehjs_exec.v0+json": ""
          },
          "metadata": {
            "application/vnd.bokehjs_exec.v0+json": {
              "id": "1003"
            }
          }
        },
        {
          "output_type": "execute_result",
          "data": {
            "text/plain": [
              "Figure(id='1003', ...)"
            ],
            "text/html": [
              "<div style=\"display: table;\"><div style=\"display: table-row;\"><div style=\"display: table-cell;\"><b title=\"bokeh.plotting.figure.Figure\">Figure</b>(</div><div style=\"display: table-cell;\">id&nbsp;=&nbsp;'1003', <span id=\"1108\" style=\"cursor: pointer;\">&hellip;)</span></div></div><div class=\"1107\" style=\"display: none;\"><div style=\"display: table-cell;\"></div><div style=\"display: table-cell;\">above&nbsp;=&nbsp;[],</div></div><div class=\"1107\" style=\"display: none;\"><div style=\"display: table-cell;\"></div><div style=\"display: table-cell;\">align&nbsp;=&nbsp;'start',</div></div><div class=\"1107\" style=\"display: none;\"><div style=\"display: table-cell;\"></div><div style=\"display: table-cell;\">aspect_ratio&nbsp;=&nbsp;None,</div></div><div class=\"1107\" style=\"display: none;\"><div style=\"display: table-cell;\"></div><div style=\"display: table-cell;\">aspect_scale&nbsp;=&nbsp;1,</div></div><div class=\"1107\" style=\"display: none;\"><div style=\"display: table-cell;\"></div><div style=\"display: table-cell;\">background&nbsp;=&nbsp;None,</div></div><div class=\"1107\" style=\"display: none;\"><div style=\"display: table-cell;\"></div><div style=\"display: table-cell;\">background_fill_alpha&nbsp;=&nbsp;1.0,</div></div><div class=\"1107\" style=\"display: none;\"><div style=\"display: table-cell;\"></div><div style=\"display: table-cell;\">background_fill_color&nbsp;=&nbsp;'#ffffff',</div></div><div class=\"1107\" style=\"display: none;\"><div style=\"display: table-cell;\"></div><div style=\"display: table-cell;\">below&nbsp;=&nbsp;[LinearAxis(id='1012', ...)],</div></div><div class=\"1107\" style=\"display: none;\"><div style=\"display: table-cell;\"></div><div style=\"display: table-cell;\">border_fill_alpha&nbsp;=&nbsp;1.0,</div></div><div class=\"1107\" style=\"display: none;\"><div style=\"display: table-cell;\"></div><div style=\"display: table-cell;\">border_fill_color&nbsp;=&nbsp;'#ffffff',</div></div><div class=\"1107\" style=\"display: none;\"><div style=\"display: table-cell;\"></div><div style=\"display: table-cell;\">center&nbsp;=&nbsp;[Grid(id='1015', ...), Grid(id='1019', ...)],</div></div><div class=\"1107\" style=\"display: none;\"><div style=\"display: table-cell;\"></div><div style=\"display: table-cell;\">css_classes&nbsp;=&nbsp;[],</div></div><div class=\"1107\" style=\"display: none;\"><div style=\"display: table-cell;\"></div><div style=\"display: table-cell;\">disabled&nbsp;=&nbsp;False,</div></div><div class=\"1107\" style=\"display: none;\"><div style=\"display: table-cell;\"></div><div style=\"display: table-cell;\">extra_x_ranges&nbsp;=&nbsp;{},</div></div><div class=\"1107\" style=\"display: none;\"><div style=\"display: table-cell;\"></div><div style=\"display: table-cell;\">extra_y_ranges&nbsp;=&nbsp;{},</div></div><div class=\"1107\" style=\"display: none;\"><div style=\"display: table-cell;\"></div><div style=\"display: table-cell;\">frame_height&nbsp;=&nbsp;None,</div></div><div class=\"1107\" style=\"display: none;\"><div style=\"display: table-cell;\"></div><div style=\"display: table-cell;\">frame_width&nbsp;=&nbsp;None,</div></div><div class=\"1107\" style=\"display: none;\"><div style=\"display: table-cell;\"></div><div style=\"display: table-cell;\">height&nbsp;=&nbsp;400,</div></div><div class=\"1107\" style=\"display: none;\"><div style=\"display: table-cell;\"></div><div style=\"display: table-cell;\">height_policy&nbsp;=&nbsp;'auto',</div></div><div class=\"1107\" style=\"display: none;\"><div style=\"display: table-cell;\"></div><div style=\"display: table-cell;\">hidpi&nbsp;=&nbsp;True,</div></div><div class=\"1107\" style=\"display: none;\"><div style=\"display: table-cell;\"></div><div style=\"display: table-cell;\">inner_height&nbsp;=&nbsp;0,</div></div><div class=\"1107\" style=\"display: none;\"><div style=\"display: table-cell;\"></div><div style=\"display: table-cell;\">inner_width&nbsp;=&nbsp;0,</div></div><div class=\"1107\" style=\"display: none;\"><div style=\"display: table-cell;\"></div><div style=\"display: table-cell;\">js_event_callbacks&nbsp;=&nbsp;{},</div></div><div class=\"1107\" style=\"display: none;\"><div style=\"display: table-cell;\"></div><div style=\"display: table-cell;\">js_property_callbacks&nbsp;=&nbsp;{},</div></div><div class=\"1107\" style=\"display: none;\"><div style=\"display: table-cell;\"></div><div style=\"display: table-cell;\">left&nbsp;=&nbsp;[LinearAxis(id='1016', ...)],</div></div><div class=\"1107\" style=\"display: none;\"><div style=\"display: table-cell;\"></div><div style=\"display: table-cell;\">lod_factor&nbsp;=&nbsp;10,</div></div><div class=\"1107\" style=\"display: none;\"><div style=\"display: table-cell;\"></div><div style=\"display: table-cell;\">lod_interval&nbsp;=&nbsp;300,</div></div><div class=\"1107\" style=\"display: none;\"><div style=\"display: table-cell;\"></div><div style=\"display: table-cell;\">lod_threshold&nbsp;=&nbsp;2000,</div></div><div class=\"1107\" style=\"display: none;\"><div style=\"display: table-cell;\"></div><div style=\"display: table-cell;\">lod_timeout&nbsp;=&nbsp;500,</div></div><div class=\"1107\" style=\"display: none;\"><div style=\"display: table-cell;\"></div><div style=\"display: table-cell;\">margin&nbsp;=&nbsp;(0, 0, 0, 0),</div></div><div class=\"1107\" style=\"display: none;\"><div style=\"display: table-cell;\"></div><div style=\"display: table-cell;\">match_aspect&nbsp;=&nbsp;False,</div></div><div class=\"1107\" style=\"display: none;\"><div style=\"display: table-cell;\"></div><div style=\"display: table-cell;\">max_height&nbsp;=&nbsp;None,</div></div><div class=\"1107\" style=\"display: none;\"><div style=\"display: table-cell;\"></div><div style=\"display: table-cell;\">max_width&nbsp;=&nbsp;None,</div></div><div class=\"1107\" style=\"display: none;\"><div style=\"display: table-cell;\"></div><div style=\"display: table-cell;\">min_border&nbsp;=&nbsp;5,</div></div><div class=\"1107\" style=\"display: none;\"><div style=\"display: table-cell;\"></div><div style=\"display: table-cell;\">min_border_bottom&nbsp;=&nbsp;None,</div></div><div class=\"1107\" style=\"display: none;\"><div style=\"display: table-cell;\"></div><div style=\"display: table-cell;\">min_border_left&nbsp;=&nbsp;None,</div></div><div class=\"1107\" style=\"display: none;\"><div style=\"display: table-cell;\"></div><div style=\"display: table-cell;\">min_border_right&nbsp;=&nbsp;None,</div></div><div class=\"1107\" style=\"display: none;\"><div style=\"display: table-cell;\"></div><div style=\"display: table-cell;\">min_border_top&nbsp;=&nbsp;None,</div></div><div class=\"1107\" style=\"display: none;\"><div style=\"display: table-cell;\"></div><div style=\"display: table-cell;\">min_height&nbsp;=&nbsp;None,</div></div><div class=\"1107\" style=\"display: none;\"><div style=\"display: table-cell;\"></div><div style=\"display: table-cell;\">min_width&nbsp;=&nbsp;None,</div></div><div class=\"1107\" style=\"display: none;\"><div style=\"display: table-cell;\"></div><div style=\"display: table-cell;\">name&nbsp;=&nbsp;None,</div></div><div class=\"1107\" style=\"display: none;\"><div style=\"display: table-cell;\"></div><div style=\"display: table-cell;\">outer_height&nbsp;=&nbsp;0,</div></div><div class=\"1107\" style=\"display: none;\"><div style=\"display: table-cell;\"></div><div style=\"display: table-cell;\">outer_width&nbsp;=&nbsp;0,</div></div><div class=\"1107\" style=\"display: none;\"><div style=\"display: table-cell;\"></div><div style=\"display: table-cell;\">outline_line_alpha&nbsp;=&nbsp;1.0,</div></div><div class=\"1107\" style=\"display: none;\"><div style=\"display: table-cell;\"></div><div style=\"display: table-cell;\">outline_line_cap&nbsp;=&nbsp;'butt',</div></div><div class=\"1107\" style=\"display: none;\"><div style=\"display: table-cell;\"></div><div style=\"display: table-cell;\">outline_line_color&nbsp;=&nbsp;'#e5e5e5',</div></div><div class=\"1107\" style=\"display: none;\"><div style=\"display: table-cell;\"></div><div style=\"display: table-cell;\">outline_line_dash&nbsp;=&nbsp;[],</div></div><div class=\"1107\" style=\"display: none;\"><div style=\"display: table-cell;\"></div><div style=\"display: table-cell;\">outline_line_dash_offset&nbsp;=&nbsp;0,</div></div><div class=\"1107\" style=\"display: none;\"><div style=\"display: table-cell;\"></div><div style=\"display: table-cell;\">outline_line_join&nbsp;=&nbsp;'bevel',</div></div><div class=\"1107\" style=\"display: none;\"><div style=\"display: table-cell;\"></div><div style=\"display: table-cell;\">outline_line_width&nbsp;=&nbsp;1,</div></div><div class=\"1107\" style=\"display: none;\"><div style=\"display: table-cell;\"></div><div style=\"display: table-cell;\">output_backend&nbsp;=&nbsp;'canvas',</div></div><div class=\"1107\" style=\"display: none;\"><div style=\"display: table-cell;\"></div><div style=\"display: table-cell;\">renderers&nbsp;=&nbsp;[GlyphRenderer(id='1037', ...)],</div></div><div class=\"1107\" style=\"display: none;\"><div style=\"display: table-cell;\"></div><div style=\"display: table-cell;\">reset_policy&nbsp;=&nbsp;'standard',</div></div><div class=\"1107\" style=\"display: none;\"><div style=\"display: table-cell;\"></div><div style=\"display: table-cell;\">right&nbsp;=&nbsp;[],</div></div><div class=\"1107\" style=\"display: none;\"><div style=\"display: table-cell;\"></div><div style=\"display: table-cell;\">sizing_mode&nbsp;=&nbsp;None,</div></div><div class=\"1107\" style=\"display: none;\"><div style=\"display: table-cell;\"></div><div style=\"display: table-cell;\">subscribed_events&nbsp;=&nbsp;[],</div></div><div class=\"1107\" style=\"display: none;\"><div style=\"display: table-cell;\"></div><div style=\"display: table-cell;\">syncable&nbsp;=&nbsp;True,</div></div><div class=\"1107\" style=\"display: none;\"><div style=\"display: table-cell;\"></div><div style=\"display: table-cell;\">tags&nbsp;=&nbsp;[],</div></div><div class=\"1107\" style=\"display: none;\"><div style=\"display: table-cell;\"></div><div style=\"display: table-cell;\">title&nbsp;=&nbsp;Title(id='1042', ...),</div></div><div class=\"1107\" style=\"display: none;\"><div style=\"display: table-cell;\"></div><div style=\"display: table-cell;\">title_location&nbsp;=&nbsp;'above',</div></div><div class=\"1107\" style=\"display: none;\"><div style=\"display: table-cell;\"></div><div style=\"display: table-cell;\">toolbar&nbsp;=&nbsp;Toolbar(id='1027', ...),</div></div><div class=\"1107\" style=\"display: none;\"><div style=\"display: table-cell;\"></div><div style=\"display: table-cell;\">toolbar_location&nbsp;=&nbsp;'right',</div></div><div class=\"1107\" style=\"display: none;\"><div style=\"display: table-cell;\"></div><div style=\"display: table-cell;\">toolbar_sticky&nbsp;=&nbsp;True,</div></div><div class=\"1107\" style=\"display: none;\"><div style=\"display: table-cell;\"></div><div style=\"display: table-cell;\">visible&nbsp;=&nbsp;True,</div></div><div class=\"1107\" style=\"display: none;\"><div style=\"display: table-cell;\"></div><div style=\"display: table-cell;\">width&nbsp;=&nbsp;600,</div></div><div class=\"1107\" style=\"display: none;\"><div style=\"display: table-cell;\"></div><div style=\"display: table-cell;\">width_policy&nbsp;=&nbsp;'auto',</div></div><div class=\"1107\" style=\"display: none;\"><div style=\"display: table-cell;\"></div><div style=\"display: table-cell;\">x_range&nbsp;=&nbsp;DataRange1d(id='1004', ...),</div></div><div class=\"1107\" style=\"display: none;\"><div style=\"display: table-cell;\"></div><div style=\"display: table-cell;\">x_scale&nbsp;=&nbsp;LinearScale(id='1008', ...),</div></div><div class=\"1107\" style=\"display: none;\"><div style=\"display: table-cell;\"></div><div style=\"display: table-cell;\">y_range&nbsp;=&nbsp;DataRange1d(id='1006', ...),</div></div><div class=\"1107\" style=\"display: none;\"><div style=\"display: table-cell;\"></div><div style=\"display: table-cell;\">y_scale&nbsp;=&nbsp;LinearScale(id='1010', ...))</div></div></div>\n",
              "<script>\n",
              "(function() {\n",
              "  var expanded = false;\n",
              "  var ellipsis = document.getElementById(\"1108\");\n",
              "  ellipsis.addEventListener(\"click\", function() {\n",
              "    var rows = document.getElementsByClassName(\"1107\");\n",
              "    for (var i = 0; i < rows.length; i++) {\n",
              "      var el = rows[i];\n",
              "      el.style.display = expanded ? \"none\" : \"table-row\";\n",
              "    }\n",
              "    ellipsis.innerHTML = expanded ? \"&hellip;)\" : \"&lsaquo;&lsaquo;&lsaquo;\";\n",
              "    expanded = !expanded;\n",
              "  });\n",
              "})();\n",
              "</script>\n"
            ]
          },
          "metadata": {},
          "execution_count": 21
        }
      ],
      "source": [
        "draw_vectors(\n",
        "    examples[\"transformed_features\"][:, 0], \n",
        "    examples[\"transformed_features\"][:, 1], \n",
        "    color=[[\"red\", \"blue\"][t] for t in examples[\"targets\"]]\n",
        "    )"
      ]
    },
    {
      "cell_type": "markdown",
      "metadata": {
        "id": "0fNF6LRQ9MPI"
      },
      "source": [
        "На визуализации нет четкого разделения твитов между классами. Это значит, что по полученным нами векторам твитов не так-то просто определить, к какому классу твит пренадлежит. Значит, обычный линейный классификатор не очень хорошо справится с задачей. Надо будет делать глубокую (хотя бы два слоя) нейронную сеть.\n",
        "\n",
        "Подготовим загрузчики данных.\n",
        "Усреднее векторов будем делать в \"батчевалке\"(`collate_fn`). Она используется для того, чтобы собирать из данных `torch.Tensor` батчи, которые можно отправлять в модель.\n"
      ]
    },
    {
      "cell_type": "code",
      "execution_count": null,
      "metadata": {
        "id": "y1XapsADtITv"
      },
      "outputs": [],
      "source": [
        "from torch.utils.data import DataLoader\n",
        "\n",
        "batch_size = 1024\n",
        "num_workers = 4\n",
        "\n",
        "def average_emb(batch):\n",
        "    features = [np.mean(b[\"feature\"], axis=0) for b in batch]\n",
        "    targets = [b[\"target\"] for b in batch]\n",
        "\n",
        "    return {\"features\": torch.FloatTensor(features), \"targets\": torch.LongTensor(targets)}\n",
        "\n",
        "\n",
        "train_size = math.ceil(len(dev) * 0.8)\n",
        "\n",
        "train, valid = random_split(dev, [train_size, len(dev) - train_size])\n",
        "\n",
        "train_loader = DataLoader(train, batch_size=batch_size, num_workers=num_workers, shuffle=True, drop_last=True, collate_fn=average_emb)\n",
        "valid_loader = DataLoader(valid, batch_size=batch_size, num_workers=num_workers, shuffle=False, drop_last=False, collate_fn=average_emb)"
      ]
    },
    {
      "cell_type": "markdown",
      "metadata": {
        "id": "p-zs0WEK-Vkt"
      },
      "source": [
        "Определим функции для тренировки и теста модели:"
      ]
    },
    {
      "cell_type": "code",
      "execution_count": null,
      "metadata": {
        "id": "U--T2Gjw1r27"
      },
      "outputs": [],
      "source": [
        "from tqdm.notebook import tqdm\n",
        "\n",
        "\n",
        "def training(model, optimizer, criterion, train_loader, epoch, device=\"cpu\"):\n",
        "    pbar = tqdm(train_loader, desc=f\"Epoch {e + 1}. Train Loss: {0}\")\n",
        "    model.train()\n",
        "    for batch in pbar:\n",
        "        features = batch[\"features\"].to(device)\n",
        "        targets = batch[\"targets\"].to(device)\n",
        "        outputs = model(features)\n",
        "\n",
        "        optimizer.zero_grad()\n",
        "        loss = criterion(outputs, targets)\n",
        "        loss.backward()\n",
        "        optimizer.step()\n",
        "\n",
        "        pbar.set_description(f\"Epoch {e + 1}. Train Loss: {loss:.4}\")\n",
        "    \n",
        "def testing(model, criterion, test_loader, device=\"cpu\"):\n",
        "    pbar = tqdm(test_loader, desc=f\"Test Loss: {0}, Test Acc: {0}\")\n",
        "    mean_loss = 0\n",
        "    mean_acc = 0\n",
        "    running_corrects = 0\n",
        "    model.eval()\n",
        "    with torch.no_grad():\n",
        "        for batch in pbar:\n",
        "          with torch.no_grad():\n",
        "            features = batch[\"features\"].to(device)\n",
        "            targets = batch[\"targets\"].to(device)\n",
        "\n",
        "            outputs = model(features)\n",
        "            loss = criterion(outputs, targets)\n",
        "\n",
        "            preds = torch.argmax(outputs, 1)\n",
        "            running_corrects = torch.sum(preds == targets)\n",
        "            acc = running_corrects.double() / len(targets)\n",
        "\n",
        "            mean_loss += loss.item()\n",
        "            mean_acc += acc.item()\n",
        "\n",
        "            pbar.set_description(f\"Test Loss: {loss:.4}, Test Acc: {acc:.4}\")\n",
        "\n",
        "    pbar.set_description(f\"Test Loss: {mean_loss / len(test_loader):.4}, Test Acc: {mean_acc / len(test_loader):.4}\")\n",
        "\n",
        "    return {\"Test Loss\": mean_loss / len(test_loader), \"Test Acc\": mean_acc / len(test_loader)}"
      ]
    },
    {
      "cell_type": "markdown",
      "metadata": {
        "id": "oVg_XBBb-YBH"
      },
      "source": [
        "Создадим модель, оптимизатор и целевую функцию. "
      ]
    },
    {
      "cell_type": "code",
      "execution_count": null,
      "metadata": {
        "id": "qyF3BV6g72qH"
      },
      "outputs": [],
      "source": [
        "from torch import nn"
      ]
    },
    {
      "cell_type": "code",
      "execution_count": null,
      "metadata": {
        "id": "n21FHIm97LAc"
      },
      "outputs": [],
      "source": [
        "class W2VModel(nn.Module):\n",
        "    def __init__(self):\n",
        "        super().__init__()\n",
        "        self.lin1 = nn.Linear(300, 150)\n",
        "        self.lin2 = nn.Linear(150, 50)\n",
        "        self.lin3 = nn.Linear(50, 2)\n",
        "        self.ReLU = nn.ReLU(inplace=True)\n",
        "\n",
        "    def forward(self, word):\n",
        "        x = self.ReLU(self.lin1(word))\n",
        "        x = self.ReLU(self.lin2(x))\n",
        "        return self.lin3(x)\n",
        "\n",
        "    def init_emb(self):\n",
        "        \"\"\"\n",
        "        init the weight as original word2vec do.\n",
        "        \"\"\"\n",
        "        initrange = 0.5 / self.emb_dim\n",
        "        self.encoder.weight.data.uniform_(-initrange, initrange)\n",
        "        self.decoder.weight.data.uniform_(0, 0)"
      ]
    },
    {
      "cell_type": "code",
      "execution_count": null,
      "metadata": {
        "id": "EBoZ4F3Fx1Hm"
      },
      "outputs": [],
      "source": [
        "import torch.nn as nn\n",
        "from torch.optim import Adam\n",
        "\n",
        "vector_size = dev.word2vec.vector_size\n",
        "num_classes = 2\n",
        "lr = 1e-2\n",
        "num_epochs = 1\n",
        "\n",
        "model = W2VModel()\n",
        "model = model.cuda()\n",
        "criterion = criterion = nn.CrossEntropyLoss()\n",
        "optimizer = torch.optim.Adam(model.parameters())"
      ]
    },
    {
      "cell_type": "markdown",
      "metadata": {
        "id": "-AitU8AR-zBj"
      },
      "source": [
        "Наконец, обучим модель и протестируем её. "
      ]
    },
    {
      "cell_type": "code",
      "execution_count": null,
      "metadata": {
        "id": "gKhk71Pmx1F1",
        "colab": {
          "base_uri": "https://localhost:8080/",
          "height": 98,
          "referenced_widgets": [
            "592d636442c34a56895ba961a33b6060",
            "7aa8f15a651f40e3a90bb10b9af75dc1",
            "b504f4819d2b44709974afca7e700124",
            "b91c0d9355754217a7206c325eba7cfe",
            "bc23ebc5ef3d4dcb90f34e01ac7112d7",
            "e6f11097f47243db978ebff6b3ccdd5b",
            "5172ad7a823e45b292d5e8f1af16ce4e",
            "0bea2d858def49b292e2fe627e212bc7",
            "cc03816a57e04d1ca810dce3089ac552",
            "b328226df0064d1b8382588e6b626c83",
            "3493c7d1c54140c7a5512d90d0df6327",
            "177bcd501fbc4e4b93e62b3e0529b1c2",
            "c009ba4e1ddd4300bfafcc748268c7fd",
            "01facbd42a84495d8bf6f93fe4726129",
            "697a246adea14eddba81d1e6fc0698eb",
            "c51170b0eed949039e148c25b88f171d",
            "0eaf55686dae4a0aa0d2630b7b32e5b1",
            "2eed75b4365e47c6b86a7c6ce2ed7b58",
            "0201d69a8f6f46dbbce60278e035bd62",
            "b0e076b722974693ba15ed4c2aa342eb",
            "a28ae0e4ad214398893864c1034ccf1f",
            "d59e589514f84c11ad394cd0cb93361a"
          ]
        },
        "outputId": "3b81a7fc-3c36-4224-f3fb-16b8b4a54cff"
      },
      "outputs": [
        {
          "output_type": "display_data",
          "data": {
            "text/plain": [
              "Epoch 1. Train Loss: 0:   0%|          | 0/1000 [00:00<?, ?it/s]"
            ],
            "application/vnd.jupyter.widget-view+json": {
              "version_major": 2,
              "version_minor": 0,
              "model_id": "592d636442c34a56895ba961a33b6060"
            }
          },
          "metadata": {}
        },
        {
          "output_type": "display_data",
          "data": {
            "text/plain": [
              "Test Loss: 0, Test Acc: 0:   0%|          | 0/250 [00:00<?, ?it/s]"
            ],
            "application/vnd.jupyter.widget-view+json": {
              "version_major": 2,
              "version_minor": 0,
              "model_id": "177bcd501fbc4e4b93e62b3e0529b1c2"
            }
          },
          "metadata": {}
        },
        {
          "output_type": "stream",
          "name": "stdout",
          "text": [
            "{'Test Loss': 0.5074272125959396, 'Test Acc': 0.74771875}\n"
          ]
        }
      ],
      "source": [
        "best_metric = np.inf\n",
        "for e in range(num_epochs):\n",
        "    training(model, optimizer, criterion, train_loader, e, device)\n",
        "    log = testing(model, criterion, valid_loader, device)\n",
        "    print(log)\n",
        "    if log[\"Test Loss\"] < best_metric:\n",
        "        torch.save(model.state_dict(), \"model.pt\")\n",
        "        best_metric = log[\"Test Loss\"]"
      ]
    },
    {
      "cell_type": "code",
      "execution_count": null,
      "metadata": {
        "id": "di4dGwD4x1Dt",
        "colab": {
          "base_uri": "https://localhost:8080/",
          "height": 66,
          "referenced_widgets": [
            "62223f98443e4b6e9c77633101c9d068",
            "0517a88bcd0a4c6ca66d2021763f74a6",
            "3174e09b0a2e4afd905a07a086885110",
            "eb9bb0a94b6c4c2e92c5f2eca4268dbe",
            "c15645059e964c84960c92efad3527ad",
            "b76c21f910c845f39449ea2bc45af5d6",
            "ef5671fce4be4d3e9d8c2063b5338286",
            "85b1c5b83575414a8b6d8fddc1a09b83",
            "452442ff1f7e433fb5209516b6953ed4",
            "0ba27858636541a9836ebfbc4de8ac6e",
            "dd487cd15db84f0dab0fc72e0a86799f"
          ]
        },
        "outputId": "7d61e3be-dc7d-414f-ec0c-4922e25c7d54"
      },
      "outputs": [
        {
          "output_type": "display_data",
          "data": {
            "text/plain": [
              "Test Loss: 0, Test Acc: 0:   0%|          | 0/313 [00:00<?, ?it/s]"
            ],
            "application/vnd.jupyter.widget-view+json": {
              "version_major": 2,
              "version_minor": 0,
              "model_id": "62223f98443e4b6e9c77633101c9d068"
            }
          },
          "metadata": {}
        },
        {
          "output_type": "stream",
          "name": "stdout",
          "text": [
            "{'Test Loss': 0.5076384721472621, 'Test Acc': 0.7480094349041534}\n"
          ]
        }
      ],
      "source": [
        "test_loader = DataLoader(\n",
        "    TwitterDataset(test_data, \"text\", \"emotion\", word2vec), \n",
        "    batch_size=batch_size, \n",
        "    num_workers=num_workers, \n",
        "    shuffle=False,\n",
        "    drop_last=False, \n",
        "    collate_fn=average_emb)\n",
        "\n",
        "model.load_state_dict(torch.load(\"model.pt\", map_location=device))\n",
        "\n",
        "print(testing(model, criterion, test_loader, device=device))"
      ]
    },
    {
      "cell_type": "markdown",
      "metadata": {
        "id": "ZRvzpldHSAu0"
      },
      "source": [
        "## Embeddings for unknown words\n",
        "\n",
        "Пока что использовалась не вся информация из текста. Часть информации фильтровалось – если слова не было в словаре эмбеддингов, то мы просто превращали слово в нулевой вектор. Хочется использовать информацию по-максимуму. Поэтому рассмотрим другие способы обработки слов, которых нет в словаре. А именно:\n",
        "\n",
        "- Для каждого незнакомого слова будем запоминать его контекст (слова слева и справа от этого слова). Эмбеддингом нашего незнакомого слова будет сумма эмбеддингов всех слов из его контекста. \n",
        "- Для каждого слова текста получим его эмбеддинг из Tfidf с помощью ```TfidfVectorizer``` из [sklearn](https://scikit-learn.org/stable/modules/generated/sklearn.feature_extraction.text.TfidfVectorizer.html#sklearn.feature_extraction.text.TfidfVectorizer). Итоговым эмбеддингом для каждого слова будет сумма двух эмбеддингов: предобученного и Tfidf-ного. Для слов, которых нет в словаре предобученных эмбеддингов, результирующий эмбеддинг будет просто полученный из Tfidf. \n",
        "\n",
        "Реализуйте оба варианта **ниже**. Напишите, какой способ сработал лучше и ваши мысли, почему так получилось."
      ]
    },
    {
      "cell_type": "markdown",
      "source": [
        "**Первый вариант**\n",
        "\n",
        "Эмбеддингом незнакомого слова является сумма эмбеддингов всех слов из его контекста\n"
      ],
      "metadata": {
        "id": "k8k52r33QcuJ"
      }
    },
    {
      "cell_type": "code",
      "execution_count": null,
      "metadata": {
        "id": "RxhEpKalU1UQ"
      },
      "outputs": [],
      "source": [
        "from torch.utils.data import Dataset, random_split\n",
        "\n",
        "class TwitterDataset(Dataset):\n",
        "    def __init__(self, data: pd.DataFrame, feature_column: str, target_column: str, word2vec: gensim.models.Word2Vec):        \n",
        "        self.data = data\n",
        "\n",
        "        self.feature_column = feature_column\n",
        "        self.target_column = target_column\n",
        "\n",
        "        self.word2vec = word2vec\n",
        "        self.tokenizer = nltk.WordPunctTokenizer()\n",
        "\n",
        "        self.label2num = lambda label: 0 if label == 0 else 1\n",
        "        self.mean = np.mean(word2vec.vectors, axis=0)\n",
        "        self.std = np.std(word2vec.vectors, axis=0)\n",
        "\n",
        "    def __getitem__(self, item):\n",
        "        text = self.data[self.feature_column][item]\n",
        "        label = self.label2num(self.data[self.target_column][item])\n",
        "\n",
        "        tokens = self.get_tokens_(text)\n",
        "        embeddings = self.get_embeddings_(tokens)\n",
        "\n",
        "        return {\"feature\": embeddings, \"target\": label}\n",
        "\n",
        "    def get_tokens_(self, text):\n",
        "        tokens = self.tokenizer.tokenize(text.lower())\n",
        "        filtered_tokens = [w for w in tokens if (c not in string.punctuation for c in w) and len(w) > 3]\n",
        "        return filtered_tokens\n",
        "\n",
        "    def get_embeddings_(self, tokens):\n",
        "        embeddings = []\n",
        "        for i, token in enumerate(tokens):\n",
        "          if token in self.word2vec:\n",
        "            embeddings.append((self.word2vec.get_vector(token) - self.mean) / self.std)\n",
        "          else:\n",
        "            emb_of_neighbors = [0]*self.word2vec.vector_size\n",
        "            for w in range(-2,3):\n",
        "              if 0 <= (i+w) < len(tokens):\n",
        "                if (tokens[i+w]) in self.word2vec:\n",
        "                  emb_of_neighbors += self.word2vec.get_vector(tokens[i+w])\n",
        "            embeddings.append((emb_of_neighbors - self.mean) / self.std)\n",
        "\n",
        "        if len(embeddings) == 0:\n",
        "            embeddings = np.zeros((1, self.word2vec.vector_size))\n",
        "        else:\n",
        "            embeddings = np.array(embeddings)\n",
        "            if len(embeddings.shape) == 1:\n",
        "                embeddings = embeddings.reshape(-1, 1)\n",
        "        return embeddings\n",
        "\n",
        "    def __len__(self):\n",
        "        return self.data.shape[0]"
      ]
    },
    {
      "cell_type": "code",
      "source": [
        "dev = TwitterDataset(dev_data, \"text\", \"emotion\", word2vec)"
      ],
      "metadata": {
        "id": "pzUFXRteVfkp"
      },
      "execution_count": null,
      "outputs": []
    },
    {
      "cell_type": "code",
      "source": [
        "indexes = np.arange(len(dev))\n",
        "np.random.shuffle(indexes)\n",
        "example_indexes = indexes[::1000]\n",
        "\n",
        "examples = {\"features\": [np.sum(dev[i][\"feature\"], axis=0) for i in example_indexes], \n",
        "            \"targets\": [dev[i][\"target\"] for i in example_indexes]}\n",
        "print(len(examples[\"features\"]))"
      ],
      "metadata": {
        "id": "uOTzLHTqVhgn",
        "colab": {
          "base_uri": "https://localhost:8080/"
        },
        "outputId": "d970030c-dece-4aa3-bb44-ccd05b5af268"
      },
      "execution_count": null,
      "outputs": [
        {
          "output_type": "stream",
          "name": "stdout",
          "text": [
            "1280\n"
          ]
        }
      ]
    },
    {
      "cell_type": "code",
      "source": [
        "from torch.utils.data import DataLoader\n",
        "\n",
        "batch_size = 1024\n",
        "num_workers = 4\n",
        "\n",
        "def average_emb(batch):\n",
        "    features = [np.mean(b[\"feature\"], axis=0) for b in batch]\n",
        "    targets = [b[\"target\"] for b in batch]\n",
        "\n",
        "    return {\"features\": torch.FloatTensor(features), \"targets\": torch.LongTensor(targets)}\n",
        "\n",
        "\n",
        "train_size = math.ceil(len(dev) * 0.8)\n",
        "\n",
        "train, valid = random_split(dev, [train_size, len(dev) - train_size])\n",
        "\n",
        "train_loader = DataLoader(train, batch_size=batch_size, num_workers=num_workers, shuffle=True, drop_last=True, collate_fn=average_emb)\n",
        "valid_loader = DataLoader(valid, batch_size=batch_size, num_workers=num_workers, shuffle=False, drop_last=False, collate_fn=average_emb)"
      ],
      "metadata": {
        "id": "t0g11PR7Vhiu"
      },
      "execution_count": null,
      "outputs": []
    },
    {
      "cell_type": "code",
      "source": [
        "vector_size = dev.word2vec.vector_size\n",
        "num_classes = 2\n",
        "lr = 1e-2\n",
        "num_epochs = 1\n",
        "\n",
        "model = W2VModel()\n",
        "model = model.cuda()\n",
        "criterion = criterion = nn.CrossEntropyLoss()\n",
        "optimizer = torch.optim.Adam(model.parameters())"
      ],
      "metadata": {
        "id": "6bd_imUQUzrD"
      },
      "execution_count": null,
      "outputs": []
    },
    {
      "cell_type": "code",
      "source": [
        "best_metric = np.inf\n",
        "for e in range(num_epochs):\n",
        "    training(model, optimizer, criterion, train_loader, e, device)\n",
        "    log = testing(model, criterion, valid_loader, device)\n",
        "    print(log)\n",
        "    if log[\"Test Loss\"] < best_metric:\n",
        "        torch.save(model.state_dict(), \"model.pt\")\n",
        "        best_metric = log[\"Test Loss\"]"
      ],
      "metadata": {
        "colab": {
          "base_uri": "https://localhost:8080/",
          "height": 98,
          "referenced_widgets": [
            "0d344918536740d4a4fa8b1d66cc0f63",
            "2e19f3239a61442894b1a3fbe0f7d4f1",
            "4475d6cc306e459dad58247e93da0615",
            "e25f680a70694b30801f981112bfeef1",
            "2805e6b17d5f4b608ceea4618cd45a0b",
            "7708e76d0b3b441c8a4694d95d067b2e",
            "4fd986e4a9a24825b6f54e19a1f20c86",
            "de3a642220f74c779d0b26bdd9a7da1a",
            "e2267849ea4f4e429f0974b75f8f772f",
            "27496be57f0d4290a307b14d496f56a9",
            "5490f2a2f61e49c99f0c66df15eeff47",
            "d326f441ef6f4d50a3ee662286318d20",
            "cedb06a25806484f8e3f4bd5e5c690f3",
            "79570155a52d47d3b6c8754fb12077fd",
            "b3c7c0c0293e45e2a64bd4246f25b0a6",
            "20256d0f9f6f42eb9691d9ad1c56f11b",
            "c6f64cce87ce4d1da12a609d5853c350",
            "530021ff216548ba825f5e27e8a0527a",
            "58ecb909aee54b8c9f16d038b5270b76",
            "e4d4bc74a0cf458281e106de983a92c1",
            "a95134091514440ebb0a0cba446492b5",
            "902c8b59baeb4f39b05bf8a45d6141eb"
          ]
        },
        "id": "8kdK1XNuU0La",
        "outputId": "30828bdf-da67-490b-e01a-8d645483e180"
      },
      "execution_count": null,
      "outputs": [
        {
          "output_type": "display_data",
          "data": {
            "text/plain": [
              "Epoch 1. Train Loss: 0:   0%|          | 0/1000 [00:00<?, ?it/s]"
            ],
            "application/vnd.jupyter.widget-view+json": {
              "version_major": 2,
              "version_minor": 0,
              "model_id": "0d344918536740d4a4fa8b1d66cc0f63"
            }
          },
          "metadata": {}
        },
        {
          "output_type": "display_data",
          "data": {
            "text/plain": [
              "Test Loss: 0, Test Acc: 0:   0%|          | 0/250 [00:00<?, ?it/s]"
            ],
            "application/vnd.jupyter.widget-view+json": {
              "version_major": 2,
              "version_minor": 0,
              "model_id": "d326f441ef6f4d50a3ee662286318d20"
            }
          },
          "metadata": {}
        },
        {
          "output_type": "stream",
          "name": "stdout",
          "text": [
            "{'Test Loss': 0.5118219476938247, 'Test Acc': 0.745875}\n"
          ]
        }
      ]
    },
    {
      "cell_type": "code",
      "source": [
        "test_loader = DataLoader(\n",
        "    TwitterDataset(test_data, \"text\", \"emotion\", word2vec), \n",
        "    batch_size=batch_size, \n",
        "    num_workers=num_workers, \n",
        "    shuffle=False,\n",
        "    drop_last=False, \n",
        "    collate_fn=average_emb)\n",
        "\n",
        "model.load_state_dict(torch.load(\"model.pt\", map_location=device))\n",
        "\n",
        "print(testing(model, criterion, test_loader, device=device))"
      ],
      "metadata": {
        "colab": {
          "base_uri": "https://localhost:8080/",
          "height": 66,
          "referenced_widgets": [
            "e64ff3c4b0be44ae85620115c13d65bf",
            "a4c54a1c0b024769b386e7efc5e2e060",
            "cdb9d6e89c6c439381b8daa55cc0567f",
            "6bce87d9491f4fc49f159e6dce3132e3",
            "1bfbd6f5562e4d6da00e5b185c48f95f",
            "09042e6c22584a48ad1bbf42d4c5c493",
            "9d6bae5388534e6a9266ad39387ccd76",
            "c864a26f4fc74dd095a171c65632a3f4",
            "3712582aa5ce470b854e1c71e1902d61",
            "5cc599e08f504fa68585f37396db2b75",
            "65e4d283883c41639dca88405a70f667"
          ]
        },
        "id": "kcQnr26FU0NT",
        "outputId": "4d8a8ee0-d42a-46db-b05f-937f24a38500"
      },
      "execution_count": null,
      "outputs": [
        {
          "output_type": "display_data",
          "data": {
            "text/plain": [
              "Test Loss: 0, Test Acc: 0:   0%|          | 0/313 [00:00<?, ?it/s]"
            ],
            "application/vnd.jupyter.widget-view+json": {
              "version_major": 2,
              "version_minor": 0,
              "model_id": "e64ff3c4b0be44ae85620115c13d65bf"
            }
          },
          "metadata": {}
        },
        {
          "output_type": "stream",
          "name": "stdout",
          "text": [
            "{'Test Loss': 0.5115297732833094, 'Test Acc': 0.7456351088258786}\n"
          ]
        }
      ]
    },
    {
      "cell_type": "code",
      "source": [],
      "metadata": {
        "id": "klEnqoUtoQg6"
      },
      "execution_count": null,
      "outputs": []
    }
  ],
  "metadata": {
    "accelerator": "GPU",
    "colab": {
      "collapsed_sections": [],
      "provenance": []
    },
    "kernelspec": {
      "display_name": "Python 3",
      "name": "python3"
    },
    "widgets": {
      "application/vnd.jupyter.widget-state+json": {
        "592d636442c34a56895ba961a33b6060": {
          "model_module": "@jupyter-widgets/controls",
          "model_name": "HBoxModel",
          "model_module_version": "1.5.0",
          "state": {
            "_dom_classes": [],
            "_model_module": "@jupyter-widgets/controls",
            "_model_module_version": "1.5.0",
            "_model_name": "HBoxModel",
            "_view_count": null,
            "_view_module": "@jupyter-widgets/controls",
            "_view_module_version": "1.5.0",
            "_view_name": "HBoxView",
            "box_style": "",
            "children": [
              "IPY_MODEL_7aa8f15a651f40e3a90bb10b9af75dc1",
              "IPY_MODEL_b504f4819d2b44709974afca7e700124",
              "IPY_MODEL_b91c0d9355754217a7206c325eba7cfe"
            ],
            "layout": "IPY_MODEL_bc23ebc5ef3d4dcb90f34e01ac7112d7"
          }
        },
        "7aa8f15a651f40e3a90bb10b9af75dc1": {
          "model_module": "@jupyter-widgets/controls",
          "model_name": "HTMLModel",
          "model_module_version": "1.5.0",
          "state": {
            "_dom_classes": [],
            "_model_module": "@jupyter-widgets/controls",
            "_model_module_version": "1.5.0",
            "_model_name": "HTMLModel",
            "_view_count": null,
            "_view_module": "@jupyter-widgets/controls",
            "_view_module_version": "1.5.0",
            "_view_name": "HTMLView",
            "description": "",
            "description_tooltip": null,
            "layout": "IPY_MODEL_e6f11097f47243db978ebff6b3ccdd5b",
            "placeholder": "​",
            "style": "IPY_MODEL_5172ad7a823e45b292d5e8f1af16ce4e",
            "value": "Epoch 1. Train Loss: 0.5287: 100%"
          }
        },
        "b504f4819d2b44709974afca7e700124": {
          "model_module": "@jupyter-widgets/controls",
          "model_name": "FloatProgressModel",
          "model_module_version": "1.5.0",
          "state": {
            "_dom_classes": [],
            "_model_module": "@jupyter-widgets/controls",
            "_model_module_version": "1.5.0",
            "_model_name": "FloatProgressModel",
            "_view_count": null,
            "_view_module": "@jupyter-widgets/controls",
            "_view_module_version": "1.5.0",
            "_view_name": "ProgressView",
            "bar_style": "success",
            "description": "",
            "description_tooltip": null,
            "layout": "IPY_MODEL_0bea2d858def49b292e2fe627e212bc7",
            "max": 1000,
            "min": 0,
            "orientation": "horizontal",
            "style": "IPY_MODEL_cc03816a57e04d1ca810dce3089ac552",
            "value": 1000
          }
        },
        "b91c0d9355754217a7206c325eba7cfe": {
          "model_module": "@jupyter-widgets/controls",
          "model_name": "HTMLModel",
          "model_module_version": "1.5.0",
          "state": {
            "_dom_classes": [],
            "_model_module": "@jupyter-widgets/controls",
            "_model_module_version": "1.5.0",
            "_model_name": "HTMLModel",
            "_view_count": null,
            "_view_module": "@jupyter-widgets/controls",
            "_view_module_version": "1.5.0",
            "_view_name": "HTMLView",
            "description": "",
            "description_tooltip": null,
            "layout": "IPY_MODEL_b328226df0064d1b8382588e6b626c83",
            "placeholder": "​",
            "style": "IPY_MODEL_3493c7d1c54140c7a5512d90d0df6327",
            "value": " 1000/1000 [01:37&lt;00:00, 13.22it/s]"
          }
        },
        "bc23ebc5ef3d4dcb90f34e01ac7112d7": {
          "model_module": "@jupyter-widgets/base",
          "model_name": "LayoutModel",
          "model_module_version": "1.2.0",
          "state": {
            "_model_module": "@jupyter-widgets/base",
            "_model_module_version": "1.2.0",
            "_model_name": "LayoutModel",
            "_view_count": null,
            "_view_module": "@jupyter-widgets/base",
            "_view_module_version": "1.2.0",
            "_view_name": "LayoutView",
            "align_content": null,
            "align_items": null,
            "align_self": null,
            "border": null,
            "bottom": null,
            "display": null,
            "flex": null,
            "flex_flow": null,
            "grid_area": null,
            "grid_auto_columns": null,
            "grid_auto_flow": null,
            "grid_auto_rows": null,
            "grid_column": null,
            "grid_gap": null,
            "grid_row": null,
            "grid_template_areas": null,
            "grid_template_columns": null,
            "grid_template_rows": null,
            "height": null,
            "justify_content": null,
            "justify_items": null,
            "left": null,
            "margin": null,
            "max_height": null,
            "max_width": null,
            "min_height": null,
            "min_width": null,
            "object_fit": null,
            "object_position": null,
            "order": null,
            "overflow": null,
            "overflow_x": null,
            "overflow_y": null,
            "padding": null,
            "right": null,
            "top": null,
            "visibility": null,
            "width": null
          }
        },
        "e6f11097f47243db978ebff6b3ccdd5b": {
          "model_module": "@jupyter-widgets/base",
          "model_name": "LayoutModel",
          "model_module_version": "1.2.0",
          "state": {
            "_model_module": "@jupyter-widgets/base",
            "_model_module_version": "1.2.0",
            "_model_name": "LayoutModel",
            "_view_count": null,
            "_view_module": "@jupyter-widgets/base",
            "_view_module_version": "1.2.0",
            "_view_name": "LayoutView",
            "align_content": null,
            "align_items": null,
            "align_self": null,
            "border": null,
            "bottom": null,
            "display": null,
            "flex": null,
            "flex_flow": null,
            "grid_area": null,
            "grid_auto_columns": null,
            "grid_auto_flow": null,
            "grid_auto_rows": null,
            "grid_column": null,
            "grid_gap": null,
            "grid_row": null,
            "grid_template_areas": null,
            "grid_template_columns": null,
            "grid_template_rows": null,
            "height": null,
            "justify_content": null,
            "justify_items": null,
            "left": null,
            "margin": null,
            "max_height": null,
            "max_width": null,
            "min_height": null,
            "min_width": null,
            "object_fit": null,
            "object_position": null,
            "order": null,
            "overflow": null,
            "overflow_x": null,
            "overflow_y": null,
            "padding": null,
            "right": null,
            "top": null,
            "visibility": null,
            "width": null
          }
        },
        "5172ad7a823e45b292d5e8f1af16ce4e": {
          "model_module": "@jupyter-widgets/controls",
          "model_name": "DescriptionStyleModel",
          "model_module_version": "1.5.0",
          "state": {
            "_model_module": "@jupyter-widgets/controls",
            "_model_module_version": "1.5.0",
            "_model_name": "DescriptionStyleModel",
            "_view_count": null,
            "_view_module": "@jupyter-widgets/base",
            "_view_module_version": "1.2.0",
            "_view_name": "StyleView",
            "description_width": ""
          }
        },
        "0bea2d858def49b292e2fe627e212bc7": {
          "model_module": "@jupyter-widgets/base",
          "model_name": "LayoutModel",
          "model_module_version": "1.2.0",
          "state": {
            "_model_module": "@jupyter-widgets/base",
            "_model_module_version": "1.2.0",
            "_model_name": "LayoutModel",
            "_view_count": null,
            "_view_module": "@jupyter-widgets/base",
            "_view_module_version": "1.2.0",
            "_view_name": "LayoutView",
            "align_content": null,
            "align_items": null,
            "align_self": null,
            "border": null,
            "bottom": null,
            "display": null,
            "flex": null,
            "flex_flow": null,
            "grid_area": null,
            "grid_auto_columns": null,
            "grid_auto_flow": null,
            "grid_auto_rows": null,
            "grid_column": null,
            "grid_gap": null,
            "grid_row": null,
            "grid_template_areas": null,
            "grid_template_columns": null,
            "grid_template_rows": null,
            "height": null,
            "justify_content": null,
            "justify_items": null,
            "left": null,
            "margin": null,
            "max_height": null,
            "max_width": null,
            "min_height": null,
            "min_width": null,
            "object_fit": null,
            "object_position": null,
            "order": null,
            "overflow": null,
            "overflow_x": null,
            "overflow_y": null,
            "padding": null,
            "right": null,
            "top": null,
            "visibility": null,
            "width": null
          }
        },
        "cc03816a57e04d1ca810dce3089ac552": {
          "model_module": "@jupyter-widgets/controls",
          "model_name": "ProgressStyleModel",
          "model_module_version": "1.5.0",
          "state": {
            "_model_module": "@jupyter-widgets/controls",
            "_model_module_version": "1.5.0",
            "_model_name": "ProgressStyleModel",
            "_view_count": null,
            "_view_module": "@jupyter-widgets/base",
            "_view_module_version": "1.2.0",
            "_view_name": "StyleView",
            "bar_color": null,
            "description_width": ""
          }
        },
        "b328226df0064d1b8382588e6b626c83": {
          "model_module": "@jupyter-widgets/base",
          "model_name": "LayoutModel",
          "model_module_version": "1.2.0",
          "state": {
            "_model_module": "@jupyter-widgets/base",
            "_model_module_version": "1.2.0",
            "_model_name": "LayoutModel",
            "_view_count": null,
            "_view_module": "@jupyter-widgets/base",
            "_view_module_version": "1.2.0",
            "_view_name": "LayoutView",
            "align_content": null,
            "align_items": null,
            "align_self": null,
            "border": null,
            "bottom": null,
            "display": null,
            "flex": null,
            "flex_flow": null,
            "grid_area": null,
            "grid_auto_columns": null,
            "grid_auto_flow": null,
            "grid_auto_rows": null,
            "grid_column": null,
            "grid_gap": null,
            "grid_row": null,
            "grid_template_areas": null,
            "grid_template_columns": null,
            "grid_template_rows": null,
            "height": null,
            "justify_content": null,
            "justify_items": null,
            "left": null,
            "margin": null,
            "max_height": null,
            "max_width": null,
            "min_height": null,
            "min_width": null,
            "object_fit": null,
            "object_position": null,
            "order": null,
            "overflow": null,
            "overflow_x": null,
            "overflow_y": null,
            "padding": null,
            "right": null,
            "top": null,
            "visibility": null,
            "width": null
          }
        },
        "3493c7d1c54140c7a5512d90d0df6327": {
          "model_module": "@jupyter-widgets/controls",
          "model_name": "DescriptionStyleModel",
          "model_module_version": "1.5.0",
          "state": {
            "_model_module": "@jupyter-widgets/controls",
            "_model_module_version": "1.5.0",
            "_model_name": "DescriptionStyleModel",
            "_view_count": null,
            "_view_module": "@jupyter-widgets/base",
            "_view_module_version": "1.2.0",
            "_view_name": "StyleView",
            "description_width": ""
          }
        },
        "177bcd501fbc4e4b93e62b3e0529b1c2": {
          "model_module": "@jupyter-widgets/controls",
          "model_name": "HBoxModel",
          "model_module_version": "1.5.0",
          "state": {
            "_dom_classes": [],
            "_model_module": "@jupyter-widgets/controls",
            "_model_module_version": "1.5.0",
            "_model_name": "HBoxModel",
            "_view_count": null,
            "_view_module": "@jupyter-widgets/controls",
            "_view_module_version": "1.5.0",
            "_view_name": "HBoxView",
            "box_style": "",
            "children": [
              "IPY_MODEL_c009ba4e1ddd4300bfafcc748268c7fd",
              "IPY_MODEL_01facbd42a84495d8bf6f93fe4726129",
              "IPY_MODEL_697a246adea14eddba81d1e6fc0698eb"
            ],
            "layout": "IPY_MODEL_c51170b0eed949039e148c25b88f171d"
          }
        },
        "c009ba4e1ddd4300bfafcc748268c7fd": {
          "model_module": "@jupyter-widgets/controls",
          "model_name": "HTMLModel",
          "model_module_version": "1.5.0",
          "state": {
            "_dom_classes": [],
            "_model_module": "@jupyter-widgets/controls",
            "_model_module_version": "1.5.0",
            "_model_name": "HTMLModel",
            "_view_count": null,
            "_view_module": "@jupyter-widgets/controls",
            "_view_module_version": "1.5.0",
            "_view_name": "HTMLView",
            "description": "",
            "description_tooltip": null,
            "layout": "IPY_MODEL_0eaf55686dae4a0aa0d2630b7b32e5b1",
            "placeholder": "​",
            "style": "IPY_MODEL_2eed75b4365e47c6b86a7c6ce2ed7b58",
            "value": "Test Loss: 0.5186, Test Acc: 0.7422: 100%"
          }
        },
        "01facbd42a84495d8bf6f93fe4726129": {
          "model_module": "@jupyter-widgets/controls",
          "model_name": "FloatProgressModel",
          "model_module_version": "1.5.0",
          "state": {
            "_dom_classes": [],
            "_model_module": "@jupyter-widgets/controls",
            "_model_module_version": "1.5.0",
            "_model_name": "FloatProgressModel",
            "_view_count": null,
            "_view_module": "@jupyter-widgets/controls",
            "_view_module_version": "1.5.0",
            "_view_name": "ProgressView",
            "bar_style": "success",
            "description": "",
            "description_tooltip": null,
            "layout": "IPY_MODEL_0201d69a8f6f46dbbce60278e035bd62",
            "max": 250,
            "min": 0,
            "orientation": "horizontal",
            "style": "IPY_MODEL_b0e076b722974693ba15ed4c2aa342eb",
            "value": 250
          }
        },
        "697a246adea14eddba81d1e6fc0698eb": {
          "model_module": "@jupyter-widgets/controls",
          "model_name": "HTMLModel",
          "model_module_version": "1.5.0",
          "state": {
            "_dom_classes": [],
            "_model_module": "@jupyter-widgets/controls",
            "_model_module_version": "1.5.0",
            "_model_name": "HTMLModel",
            "_view_count": null,
            "_view_module": "@jupyter-widgets/controls",
            "_view_module_version": "1.5.0",
            "_view_name": "HTMLView",
            "description": "",
            "description_tooltip": null,
            "layout": "IPY_MODEL_a28ae0e4ad214398893864c1034ccf1f",
            "placeholder": "​",
            "style": "IPY_MODEL_d59e589514f84c11ad394cd0cb93361a",
            "value": " 250/250 [00:24&lt;00:00, 15.46it/s]"
          }
        },
        "c51170b0eed949039e148c25b88f171d": {
          "model_module": "@jupyter-widgets/base",
          "model_name": "LayoutModel",
          "model_module_version": "1.2.0",
          "state": {
            "_model_module": "@jupyter-widgets/base",
            "_model_module_version": "1.2.0",
            "_model_name": "LayoutModel",
            "_view_count": null,
            "_view_module": "@jupyter-widgets/base",
            "_view_module_version": "1.2.0",
            "_view_name": "LayoutView",
            "align_content": null,
            "align_items": null,
            "align_self": null,
            "border": null,
            "bottom": null,
            "display": null,
            "flex": null,
            "flex_flow": null,
            "grid_area": null,
            "grid_auto_columns": null,
            "grid_auto_flow": null,
            "grid_auto_rows": null,
            "grid_column": null,
            "grid_gap": null,
            "grid_row": null,
            "grid_template_areas": null,
            "grid_template_columns": null,
            "grid_template_rows": null,
            "height": null,
            "justify_content": null,
            "justify_items": null,
            "left": null,
            "margin": null,
            "max_height": null,
            "max_width": null,
            "min_height": null,
            "min_width": null,
            "object_fit": null,
            "object_position": null,
            "order": null,
            "overflow": null,
            "overflow_x": null,
            "overflow_y": null,
            "padding": null,
            "right": null,
            "top": null,
            "visibility": null,
            "width": null
          }
        },
        "0eaf55686dae4a0aa0d2630b7b32e5b1": {
          "model_module": "@jupyter-widgets/base",
          "model_name": "LayoutModel",
          "model_module_version": "1.2.0",
          "state": {
            "_model_module": "@jupyter-widgets/base",
            "_model_module_version": "1.2.0",
            "_model_name": "LayoutModel",
            "_view_count": null,
            "_view_module": "@jupyter-widgets/base",
            "_view_module_version": "1.2.0",
            "_view_name": "LayoutView",
            "align_content": null,
            "align_items": null,
            "align_self": null,
            "border": null,
            "bottom": null,
            "display": null,
            "flex": null,
            "flex_flow": null,
            "grid_area": null,
            "grid_auto_columns": null,
            "grid_auto_flow": null,
            "grid_auto_rows": null,
            "grid_column": null,
            "grid_gap": null,
            "grid_row": null,
            "grid_template_areas": null,
            "grid_template_columns": null,
            "grid_template_rows": null,
            "height": null,
            "justify_content": null,
            "justify_items": null,
            "left": null,
            "margin": null,
            "max_height": null,
            "max_width": null,
            "min_height": null,
            "min_width": null,
            "object_fit": null,
            "object_position": null,
            "order": null,
            "overflow": null,
            "overflow_x": null,
            "overflow_y": null,
            "padding": null,
            "right": null,
            "top": null,
            "visibility": null,
            "width": null
          }
        },
        "2eed75b4365e47c6b86a7c6ce2ed7b58": {
          "model_module": "@jupyter-widgets/controls",
          "model_name": "DescriptionStyleModel",
          "model_module_version": "1.5.0",
          "state": {
            "_model_module": "@jupyter-widgets/controls",
            "_model_module_version": "1.5.0",
            "_model_name": "DescriptionStyleModel",
            "_view_count": null,
            "_view_module": "@jupyter-widgets/base",
            "_view_module_version": "1.2.0",
            "_view_name": "StyleView",
            "description_width": ""
          }
        },
        "0201d69a8f6f46dbbce60278e035bd62": {
          "model_module": "@jupyter-widgets/base",
          "model_name": "LayoutModel",
          "model_module_version": "1.2.0",
          "state": {
            "_model_module": "@jupyter-widgets/base",
            "_model_module_version": "1.2.0",
            "_model_name": "LayoutModel",
            "_view_count": null,
            "_view_module": "@jupyter-widgets/base",
            "_view_module_version": "1.2.0",
            "_view_name": "LayoutView",
            "align_content": null,
            "align_items": null,
            "align_self": null,
            "border": null,
            "bottom": null,
            "display": null,
            "flex": null,
            "flex_flow": null,
            "grid_area": null,
            "grid_auto_columns": null,
            "grid_auto_flow": null,
            "grid_auto_rows": null,
            "grid_column": null,
            "grid_gap": null,
            "grid_row": null,
            "grid_template_areas": null,
            "grid_template_columns": null,
            "grid_template_rows": null,
            "height": null,
            "justify_content": null,
            "justify_items": null,
            "left": null,
            "margin": null,
            "max_height": null,
            "max_width": null,
            "min_height": null,
            "min_width": null,
            "object_fit": null,
            "object_position": null,
            "order": null,
            "overflow": null,
            "overflow_x": null,
            "overflow_y": null,
            "padding": null,
            "right": null,
            "top": null,
            "visibility": null,
            "width": null
          }
        },
        "b0e076b722974693ba15ed4c2aa342eb": {
          "model_module": "@jupyter-widgets/controls",
          "model_name": "ProgressStyleModel",
          "model_module_version": "1.5.0",
          "state": {
            "_model_module": "@jupyter-widgets/controls",
            "_model_module_version": "1.5.0",
            "_model_name": "ProgressStyleModel",
            "_view_count": null,
            "_view_module": "@jupyter-widgets/base",
            "_view_module_version": "1.2.0",
            "_view_name": "StyleView",
            "bar_color": null,
            "description_width": ""
          }
        },
        "a28ae0e4ad214398893864c1034ccf1f": {
          "model_module": "@jupyter-widgets/base",
          "model_name": "LayoutModel",
          "model_module_version": "1.2.0",
          "state": {
            "_model_module": "@jupyter-widgets/base",
            "_model_module_version": "1.2.0",
            "_model_name": "LayoutModel",
            "_view_count": null,
            "_view_module": "@jupyter-widgets/base",
            "_view_module_version": "1.2.0",
            "_view_name": "LayoutView",
            "align_content": null,
            "align_items": null,
            "align_self": null,
            "border": null,
            "bottom": null,
            "display": null,
            "flex": null,
            "flex_flow": null,
            "grid_area": null,
            "grid_auto_columns": null,
            "grid_auto_flow": null,
            "grid_auto_rows": null,
            "grid_column": null,
            "grid_gap": null,
            "grid_row": null,
            "grid_template_areas": null,
            "grid_template_columns": null,
            "grid_template_rows": null,
            "height": null,
            "justify_content": null,
            "justify_items": null,
            "left": null,
            "margin": null,
            "max_height": null,
            "max_width": null,
            "min_height": null,
            "min_width": null,
            "object_fit": null,
            "object_position": null,
            "order": null,
            "overflow": null,
            "overflow_x": null,
            "overflow_y": null,
            "padding": null,
            "right": null,
            "top": null,
            "visibility": null,
            "width": null
          }
        },
        "d59e589514f84c11ad394cd0cb93361a": {
          "model_module": "@jupyter-widgets/controls",
          "model_name": "DescriptionStyleModel",
          "model_module_version": "1.5.0",
          "state": {
            "_model_module": "@jupyter-widgets/controls",
            "_model_module_version": "1.5.0",
            "_model_name": "DescriptionStyleModel",
            "_view_count": null,
            "_view_module": "@jupyter-widgets/base",
            "_view_module_version": "1.2.0",
            "_view_name": "StyleView",
            "description_width": ""
          }
        },
        "62223f98443e4b6e9c77633101c9d068": {
          "model_module": "@jupyter-widgets/controls",
          "model_name": "HBoxModel",
          "model_module_version": "1.5.0",
          "state": {
            "_dom_classes": [],
            "_model_module": "@jupyter-widgets/controls",
            "_model_module_version": "1.5.0",
            "_model_name": "HBoxModel",
            "_view_count": null,
            "_view_module": "@jupyter-widgets/controls",
            "_view_module_version": "1.5.0",
            "_view_name": "HBoxView",
            "box_style": "",
            "children": [
              "IPY_MODEL_0517a88bcd0a4c6ca66d2021763f74a6",
              "IPY_MODEL_3174e09b0a2e4afd905a07a086885110",
              "IPY_MODEL_eb9bb0a94b6c4c2e92c5f2eca4268dbe"
            ],
            "layout": "IPY_MODEL_c15645059e964c84960c92efad3527ad"
          }
        },
        "0517a88bcd0a4c6ca66d2021763f74a6": {
          "model_module": "@jupyter-widgets/controls",
          "model_name": "HTMLModel",
          "model_module_version": "1.5.0",
          "state": {
            "_dom_classes": [],
            "_model_module": "@jupyter-widgets/controls",
            "_model_module_version": "1.5.0",
            "_model_name": "HTMLModel",
            "_view_count": null,
            "_view_module": "@jupyter-widgets/controls",
            "_view_module_version": "1.5.0",
            "_view_name": "HTMLView",
            "description": "",
            "description_tooltip": null,
            "layout": "IPY_MODEL_b76c21f910c845f39449ea2bc45af5d6",
            "placeholder": "​",
            "style": "IPY_MODEL_ef5671fce4be4d3e9d8c2063b5338286",
            "value": "Test Loss: 0.4621, Test Acc: 0.7754: 100%"
          }
        },
        "3174e09b0a2e4afd905a07a086885110": {
          "model_module": "@jupyter-widgets/controls",
          "model_name": "FloatProgressModel",
          "model_module_version": "1.5.0",
          "state": {
            "_dom_classes": [],
            "_model_module": "@jupyter-widgets/controls",
            "_model_module_version": "1.5.0",
            "_model_name": "FloatProgressModel",
            "_view_count": null,
            "_view_module": "@jupyter-widgets/controls",
            "_view_module_version": "1.5.0",
            "_view_name": "ProgressView",
            "bar_style": "success",
            "description": "",
            "description_tooltip": null,
            "layout": "IPY_MODEL_85b1c5b83575414a8b6d8fddc1a09b83",
            "max": 313,
            "min": 0,
            "orientation": "horizontal",
            "style": "IPY_MODEL_452442ff1f7e433fb5209516b6953ed4",
            "value": 313
          }
        },
        "eb9bb0a94b6c4c2e92c5f2eca4268dbe": {
          "model_module": "@jupyter-widgets/controls",
          "model_name": "HTMLModel",
          "model_module_version": "1.5.0",
          "state": {
            "_dom_classes": [],
            "_model_module": "@jupyter-widgets/controls",
            "_model_module_version": "1.5.0",
            "_model_name": "HTMLModel",
            "_view_count": null,
            "_view_module": "@jupyter-widgets/controls",
            "_view_module_version": "1.5.0",
            "_view_name": "HTMLView",
            "description": "",
            "description_tooltip": null,
            "layout": "IPY_MODEL_0ba27858636541a9836ebfbc4de8ac6e",
            "placeholder": "​",
            "style": "IPY_MODEL_dd487cd15db84f0dab0fc72e0a86799f",
            "value": " 313/313 [00:30&lt;00:00, 12.25it/s]"
          }
        },
        "c15645059e964c84960c92efad3527ad": {
          "model_module": "@jupyter-widgets/base",
          "model_name": "LayoutModel",
          "model_module_version": "1.2.0",
          "state": {
            "_model_module": "@jupyter-widgets/base",
            "_model_module_version": "1.2.0",
            "_model_name": "LayoutModel",
            "_view_count": null,
            "_view_module": "@jupyter-widgets/base",
            "_view_module_version": "1.2.0",
            "_view_name": "LayoutView",
            "align_content": null,
            "align_items": null,
            "align_self": null,
            "border": null,
            "bottom": null,
            "display": null,
            "flex": null,
            "flex_flow": null,
            "grid_area": null,
            "grid_auto_columns": null,
            "grid_auto_flow": null,
            "grid_auto_rows": null,
            "grid_column": null,
            "grid_gap": null,
            "grid_row": null,
            "grid_template_areas": null,
            "grid_template_columns": null,
            "grid_template_rows": null,
            "height": null,
            "justify_content": null,
            "justify_items": null,
            "left": null,
            "margin": null,
            "max_height": null,
            "max_width": null,
            "min_height": null,
            "min_width": null,
            "object_fit": null,
            "object_position": null,
            "order": null,
            "overflow": null,
            "overflow_x": null,
            "overflow_y": null,
            "padding": null,
            "right": null,
            "top": null,
            "visibility": null,
            "width": null
          }
        },
        "b76c21f910c845f39449ea2bc45af5d6": {
          "model_module": "@jupyter-widgets/base",
          "model_name": "LayoutModel",
          "model_module_version": "1.2.0",
          "state": {
            "_model_module": "@jupyter-widgets/base",
            "_model_module_version": "1.2.0",
            "_model_name": "LayoutModel",
            "_view_count": null,
            "_view_module": "@jupyter-widgets/base",
            "_view_module_version": "1.2.0",
            "_view_name": "LayoutView",
            "align_content": null,
            "align_items": null,
            "align_self": null,
            "border": null,
            "bottom": null,
            "display": null,
            "flex": null,
            "flex_flow": null,
            "grid_area": null,
            "grid_auto_columns": null,
            "grid_auto_flow": null,
            "grid_auto_rows": null,
            "grid_column": null,
            "grid_gap": null,
            "grid_row": null,
            "grid_template_areas": null,
            "grid_template_columns": null,
            "grid_template_rows": null,
            "height": null,
            "justify_content": null,
            "justify_items": null,
            "left": null,
            "margin": null,
            "max_height": null,
            "max_width": null,
            "min_height": null,
            "min_width": null,
            "object_fit": null,
            "object_position": null,
            "order": null,
            "overflow": null,
            "overflow_x": null,
            "overflow_y": null,
            "padding": null,
            "right": null,
            "top": null,
            "visibility": null,
            "width": null
          }
        },
        "ef5671fce4be4d3e9d8c2063b5338286": {
          "model_module": "@jupyter-widgets/controls",
          "model_name": "DescriptionStyleModel",
          "model_module_version": "1.5.0",
          "state": {
            "_model_module": "@jupyter-widgets/controls",
            "_model_module_version": "1.5.0",
            "_model_name": "DescriptionStyleModel",
            "_view_count": null,
            "_view_module": "@jupyter-widgets/base",
            "_view_module_version": "1.2.0",
            "_view_name": "StyleView",
            "description_width": ""
          }
        },
        "85b1c5b83575414a8b6d8fddc1a09b83": {
          "model_module": "@jupyter-widgets/base",
          "model_name": "LayoutModel",
          "model_module_version": "1.2.0",
          "state": {
            "_model_module": "@jupyter-widgets/base",
            "_model_module_version": "1.2.0",
            "_model_name": "LayoutModel",
            "_view_count": null,
            "_view_module": "@jupyter-widgets/base",
            "_view_module_version": "1.2.0",
            "_view_name": "LayoutView",
            "align_content": null,
            "align_items": null,
            "align_self": null,
            "border": null,
            "bottom": null,
            "display": null,
            "flex": null,
            "flex_flow": null,
            "grid_area": null,
            "grid_auto_columns": null,
            "grid_auto_flow": null,
            "grid_auto_rows": null,
            "grid_column": null,
            "grid_gap": null,
            "grid_row": null,
            "grid_template_areas": null,
            "grid_template_columns": null,
            "grid_template_rows": null,
            "height": null,
            "justify_content": null,
            "justify_items": null,
            "left": null,
            "margin": null,
            "max_height": null,
            "max_width": null,
            "min_height": null,
            "min_width": null,
            "object_fit": null,
            "object_position": null,
            "order": null,
            "overflow": null,
            "overflow_x": null,
            "overflow_y": null,
            "padding": null,
            "right": null,
            "top": null,
            "visibility": null,
            "width": null
          }
        },
        "452442ff1f7e433fb5209516b6953ed4": {
          "model_module": "@jupyter-widgets/controls",
          "model_name": "ProgressStyleModel",
          "model_module_version": "1.5.0",
          "state": {
            "_model_module": "@jupyter-widgets/controls",
            "_model_module_version": "1.5.0",
            "_model_name": "ProgressStyleModel",
            "_view_count": null,
            "_view_module": "@jupyter-widgets/base",
            "_view_module_version": "1.2.0",
            "_view_name": "StyleView",
            "bar_color": null,
            "description_width": ""
          }
        },
        "0ba27858636541a9836ebfbc4de8ac6e": {
          "model_module": "@jupyter-widgets/base",
          "model_name": "LayoutModel",
          "model_module_version": "1.2.0",
          "state": {
            "_model_module": "@jupyter-widgets/base",
            "_model_module_version": "1.2.0",
            "_model_name": "LayoutModel",
            "_view_count": null,
            "_view_module": "@jupyter-widgets/base",
            "_view_module_version": "1.2.0",
            "_view_name": "LayoutView",
            "align_content": null,
            "align_items": null,
            "align_self": null,
            "border": null,
            "bottom": null,
            "display": null,
            "flex": null,
            "flex_flow": null,
            "grid_area": null,
            "grid_auto_columns": null,
            "grid_auto_flow": null,
            "grid_auto_rows": null,
            "grid_column": null,
            "grid_gap": null,
            "grid_row": null,
            "grid_template_areas": null,
            "grid_template_columns": null,
            "grid_template_rows": null,
            "height": null,
            "justify_content": null,
            "justify_items": null,
            "left": null,
            "margin": null,
            "max_height": null,
            "max_width": null,
            "min_height": null,
            "min_width": null,
            "object_fit": null,
            "object_position": null,
            "order": null,
            "overflow": null,
            "overflow_x": null,
            "overflow_y": null,
            "padding": null,
            "right": null,
            "top": null,
            "visibility": null,
            "width": null
          }
        },
        "dd487cd15db84f0dab0fc72e0a86799f": {
          "model_module": "@jupyter-widgets/controls",
          "model_name": "DescriptionStyleModel",
          "model_module_version": "1.5.0",
          "state": {
            "_model_module": "@jupyter-widgets/controls",
            "_model_module_version": "1.5.0",
            "_model_name": "DescriptionStyleModel",
            "_view_count": null,
            "_view_module": "@jupyter-widgets/base",
            "_view_module_version": "1.2.0",
            "_view_name": "StyleView",
            "description_width": ""
          }
        },
        "0d344918536740d4a4fa8b1d66cc0f63": {
          "model_module": "@jupyter-widgets/controls",
          "model_name": "HBoxModel",
          "model_module_version": "1.5.0",
          "state": {
            "_dom_classes": [],
            "_model_module": "@jupyter-widgets/controls",
            "_model_module_version": "1.5.0",
            "_model_name": "HBoxModel",
            "_view_count": null,
            "_view_module": "@jupyter-widgets/controls",
            "_view_module_version": "1.5.0",
            "_view_name": "HBoxView",
            "box_style": "",
            "children": [
              "IPY_MODEL_2e19f3239a61442894b1a3fbe0f7d4f1",
              "IPY_MODEL_4475d6cc306e459dad58247e93da0615",
              "IPY_MODEL_e25f680a70694b30801f981112bfeef1"
            ],
            "layout": "IPY_MODEL_2805e6b17d5f4b608ceea4618cd45a0b"
          }
        },
        "2e19f3239a61442894b1a3fbe0f7d4f1": {
          "model_module": "@jupyter-widgets/controls",
          "model_name": "HTMLModel",
          "model_module_version": "1.5.0",
          "state": {
            "_dom_classes": [],
            "_model_module": "@jupyter-widgets/controls",
            "_model_module_version": "1.5.0",
            "_model_name": "HTMLModel",
            "_view_count": null,
            "_view_module": "@jupyter-widgets/controls",
            "_view_module_version": "1.5.0",
            "_view_name": "HTMLView",
            "description": "",
            "description_tooltip": null,
            "layout": "IPY_MODEL_7708e76d0b3b441c8a4694d95d067b2e",
            "placeholder": "​",
            "style": "IPY_MODEL_4fd986e4a9a24825b6f54e19a1f20c86",
            "value": "Epoch 1. Train Loss: 0.5081: 100%"
          }
        },
        "4475d6cc306e459dad58247e93da0615": {
          "model_module": "@jupyter-widgets/controls",
          "model_name": "FloatProgressModel",
          "model_module_version": "1.5.0",
          "state": {
            "_dom_classes": [],
            "_model_module": "@jupyter-widgets/controls",
            "_model_module_version": "1.5.0",
            "_model_name": "FloatProgressModel",
            "_view_count": null,
            "_view_module": "@jupyter-widgets/controls",
            "_view_module_version": "1.5.0",
            "_view_name": "ProgressView",
            "bar_style": "success",
            "description": "",
            "description_tooltip": null,
            "layout": "IPY_MODEL_de3a642220f74c779d0b26bdd9a7da1a",
            "max": 1000,
            "min": 0,
            "orientation": "horizontal",
            "style": "IPY_MODEL_e2267849ea4f4e429f0974b75f8f772f",
            "value": 1000
          }
        },
        "e25f680a70694b30801f981112bfeef1": {
          "model_module": "@jupyter-widgets/controls",
          "model_name": "HTMLModel",
          "model_module_version": "1.5.0",
          "state": {
            "_dom_classes": [],
            "_model_module": "@jupyter-widgets/controls",
            "_model_module_version": "1.5.0",
            "_model_name": "HTMLModel",
            "_view_count": null,
            "_view_module": "@jupyter-widgets/controls",
            "_view_module_version": "1.5.0",
            "_view_name": "HTMLView",
            "description": "",
            "description_tooltip": null,
            "layout": "IPY_MODEL_27496be57f0d4290a307b14d496f56a9",
            "placeholder": "​",
            "style": "IPY_MODEL_5490f2a2f61e49c99f0c66df15eeff47",
            "value": " 1000/1000 [02:07&lt;00:00, 10.37it/s]"
          }
        },
        "2805e6b17d5f4b608ceea4618cd45a0b": {
          "model_module": "@jupyter-widgets/base",
          "model_name": "LayoutModel",
          "model_module_version": "1.2.0",
          "state": {
            "_model_module": "@jupyter-widgets/base",
            "_model_module_version": "1.2.0",
            "_model_name": "LayoutModel",
            "_view_count": null,
            "_view_module": "@jupyter-widgets/base",
            "_view_module_version": "1.2.0",
            "_view_name": "LayoutView",
            "align_content": null,
            "align_items": null,
            "align_self": null,
            "border": null,
            "bottom": null,
            "display": null,
            "flex": null,
            "flex_flow": null,
            "grid_area": null,
            "grid_auto_columns": null,
            "grid_auto_flow": null,
            "grid_auto_rows": null,
            "grid_column": null,
            "grid_gap": null,
            "grid_row": null,
            "grid_template_areas": null,
            "grid_template_columns": null,
            "grid_template_rows": null,
            "height": null,
            "justify_content": null,
            "justify_items": null,
            "left": null,
            "margin": null,
            "max_height": null,
            "max_width": null,
            "min_height": null,
            "min_width": null,
            "object_fit": null,
            "object_position": null,
            "order": null,
            "overflow": null,
            "overflow_x": null,
            "overflow_y": null,
            "padding": null,
            "right": null,
            "top": null,
            "visibility": null,
            "width": null
          }
        },
        "7708e76d0b3b441c8a4694d95d067b2e": {
          "model_module": "@jupyter-widgets/base",
          "model_name": "LayoutModel",
          "model_module_version": "1.2.0",
          "state": {
            "_model_module": "@jupyter-widgets/base",
            "_model_module_version": "1.2.0",
            "_model_name": "LayoutModel",
            "_view_count": null,
            "_view_module": "@jupyter-widgets/base",
            "_view_module_version": "1.2.0",
            "_view_name": "LayoutView",
            "align_content": null,
            "align_items": null,
            "align_self": null,
            "border": null,
            "bottom": null,
            "display": null,
            "flex": null,
            "flex_flow": null,
            "grid_area": null,
            "grid_auto_columns": null,
            "grid_auto_flow": null,
            "grid_auto_rows": null,
            "grid_column": null,
            "grid_gap": null,
            "grid_row": null,
            "grid_template_areas": null,
            "grid_template_columns": null,
            "grid_template_rows": null,
            "height": null,
            "justify_content": null,
            "justify_items": null,
            "left": null,
            "margin": null,
            "max_height": null,
            "max_width": null,
            "min_height": null,
            "min_width": null,
            "object_fit": null,
            "object_position": null,
            "order": null,
            "overflow": null,
            "overflow_x": null,
            "overflow_y": null,
            "padding": null,
            "right": null,
            "top": null,
            "visibility": null,
            "width": null
          }
        },
        "4fd986e4a9a24825b6f54e19a1f20c86": {
          "model_module": "@jupyter-widgets/controls",
          "model_name": "DescriptionStyleModel",
          "model_module_version": "1.5.0",
          "state": {
            "_model_module": "@jupyter-widgets/controls",
            "_model_module_version": "1.5.0",
            "_model_name": "DescriptionStyleModel",
            "_view_count": null,
            "_view_module": "@jupyter-widgets/base",
            "_view_module_version": "1.2.0",
            "_view_name": "StyleView",
            "description_width": ""
          }
        },
        "de3a642220f74c779d0b26bdd9a7da1a": {
          "model_module": "@jupyter-widgets/base",
          "model_name": "LayoutModel",
          "model_module_version": "1.2.0",
          "state": {
            "_model_module": "@jupyter-widgets/base",
            "_model_module_version": "1.2.0",
            "_model_name": "LayoutModel",
            "_view_count": null,
            "_view_module": "@jupyter-widgets/base",
            "_view_module_version": "1.2.0",
            "_view_name": "LayoutView",
            "align_content": null,
            "align_items": null,
            "align_self": null,
            "border": null,
            "bottom": null,
            "display": null,
            "flex": null,
            "flex_flow": null,
            "grid_area": null,
            "grid_auto_columns": null,
            "grid_auto_flow": null,
            "grid_auto_rows": null,
            "grid_column": null,
            "grid_gap": null,
            "grid_row": null,
            "grid_template_areas": null,
            "grid_template_columns": null,
            "grid_template_rows": null,
            "height": null,
            "justify_content": null,
            "justify_items": null,
            "left": null,
            "margin": null,
            "max_height": null,
            "max_width": null,
            "min_height": null,
            "min_width": null,
            "object_fit": null,
            "object_position": null,
            "order": null,
            "overflow": null,
            "overflow_x": null,
            "overflow_y": null,
            "padding": null,
            "right": null,
            "top": null,
            "visibility": null,
            "width": null
          }
        },
        "e2267849ea4f4e429f0974b75f8f772f": {
          "model_module": "@jupyter-widgets/controls",
          "model_name": "ProgressStyleModel",
          "model_module_version": "1.5.0",
          "state": {
            "_model_module": "@jupyter-widgets/controls",
            "_model_module_version": "1.5.0",
            "_model_name": "ProgressStyleModel",
            "_view_count": null,
            "_view_module": "@jupyter-widgets/base",
            "_view_module_version": "1.2.0",
            "_view_name": "StyleView",
            "bar_color": null,
            "description_width": ""
          }
        },
        "27496be57f0d4290a307b14d496f56a9": {
          "model_module": "@jupyter-widgets/base",
          "model_name": "LayoutModel",
          "model_module_version": "1.2.0",
          "state": {
            "_model_module": "@jupyter-widgets/base",
            "_model_module_version": "1.2.0",
            "_model_name": "LayoutModel",
            "_view_count": null,
            "_view_module": "@jupyter-widgets/base",
            "_view_module_version": "1.2.0",
            "_view_name": "LayoutView",
            "align_content": null,
            "align_items": null,
            "align_self": null,
            "border": null,
            "bottom": null,
            "display": null,
            "flex": null,
            "flex_flow": null,
            "grid_area": null,
            "grid_auto_columns": null,
            "grid_auto_flow": null,
            "grid_auto_rows": null,
            "grid_column": null,
            "grid_gap": null,
            "grid_row": null,
            "grid_template_areas": null,
            "grid_template_columns": null,
            "grid_template_rows": null,
            "height": null,
            "justify_content": null,
            "justify_items": null,
            "left": null,
            "margin": null,
            "max_height": null,
            "max_width": null,
            "min_height": null,
            "min_width": null,
            "object_fit": null,
            "object_position": null,
            "order": null,
            "overflow": null,
            "overflow_x": null,
            "overflow_y": null,
            "padding": null,
            "right": null,
            "top": null,
            "visibility": null,
            "width": null
          }
        },
        "5490f2a2f61e49c99f0c66df15eeff47": {
          "model_module": "@jupyter-widgets/controls",
          "model_name": "DescriptionStyleModel",
          "model_module_version": "1.5.0",
          "state": {
            "_model_module": "@jupyter-widgets/controls",
            "_model_module_version": "1.5.0",
            "_model_name": "DescriptionStyleModel",
            "_view_count": null,
            "_view_module": "@jupyter-widgets/base",
            "_view_module_version": "1.2.0",
            "_view_name": "StyleView",
            "description_width": ""
          }
        },
        "d326f441ef6f4d50a3ee662286318d20": {
          "model_module": "@jupyter-widgets/controls",
          "model_name": "HBoxModel",
          "model_module_version": "1.5.0",
          "state": {
            "_dom_classes": [],
            "_model_module": "@jupyter-widgets/controls",
            "_model_module_version": "1.5.0",
            "_model_name": "HBoxModel",
            "_view_count": null,
            "_view_module": "@jupyter-widgets/controls",
            "_view_module_version": "1.5.0",
            "_view_name": "HBoxView",
            "box_style": "",
            "children": [
              "IPY_MODEL_cedb06a25806484f8e3f4bd5e5c690f3",
              "IPY_MODEL_79570155a52d47d3b6c8754fb12077fd",
              "IPY_MODEL_b3c7c0c0293e45e2a64bd4246f25b0a6"
            ],
            "layout": "IPY_MODEL_20256d0f9f6f42eb9691d9ad1c56f11b"
          }
        },
        "cedb06a25806484f8e3f4bd5e5c690f3": {
          "model_module": "@jupyter-widgets/controls",
          "model_name": "HTMLModel",
          "model_module_version": "1.5.0",
          "state": {
            "_dom_classes": [],
            "_model_module": "@jupyter-widgets/controls",
            "_model_module_version": "1.5.0",
            "_model_name": "HTMLModel",
            "_view_count": null,
            "_view_module": "@jupyter-widgets/controls",
            "_view_module_version": "1.5.0",
            "_view_name": "HTMLView",
            "description": "",
            "description_tooltip": null,
            "layout": "IPY_MODEL_c6f64cce87ce4d1da12a609d5853c350",
            "placeholder": "​",
            "style": "IPY_MODEL_530021ff216548ba825f5e27e8a0527a",
            "value": "Test Loss: 0.5021, Test Acc: 0.7627: 100%"
          }
        },
        "79570155a52d47d3b6c8754fb12077fd": {
          "model_module": "@jupyter-widgets/controls",
          "model_name": "FloatProgressModel",
          "model_module_version": "1.5.0",
          "state": {
            "_dom_classes": [],
            "_model_module": "@jupyter-widgets/controls",
            "_model_module_version": "1.5.0",
            "_model_name": "FloatProgressModel",
            "_view_count": null,
            "_view_module": "@jupyter-widgets/controls",
            "_view_module_version": "1.5.0",
            "_view_name": "ProgressView",
            "bar_style": "success",
            "description": "",
            "description_tooltip": null,
            "layout": "IPY_MODEL_58ecb909aee54b8c9f16d038b5270b76",
            "max": 250,
            "min": 0,
            "orientation": "horizontal",
            "style": "IPY_MODEL_e4d4bc74a0cf458281e106de983a92c1",
            "value": 250
          }
        },
        "b3c7c0c0293e45e2a64bd4246f25b0a6": {
          "model_module": "@jupyter-widgets/controls",
          "model_name": "HTMLModel",
          "model_module_version": "1.5.0",
          "state": {
            "_dom_classes": [],
            "_model_module": "@jupyter-widgets/controls",
            "_model_module_version": "1.5.0",
            "_model_name": "HTMLModel",
            "_view_count": null,
            "_view_module": "@jupyter-widgets/controls",
            "_view_module_version": "1.5.0",
            "_view_name": "HTMLView",
            "description": "",
            "description_tooltip": null,
            "layout": "IPY_MODEL_a95134091514440ebb0a0cba446492b5",
            "placeholder": "​",
            "style": "IPY_MODEL_902c8b59baeb4f39b05bf8a45d6141eb",
            "value": " 250/250 [00:33&lt;00:00,  9.17it/s]"
          }
        },
        "20256d0f9f6f42eb9691d9ad1c56f11b": {
          "model_module": "@jupyter-widgets/base",
          "model_name": "LayoutModel",
          "model_module_version": "1.2.0",
          "state": {
            "_model_module": "@jupyter-widgets/base",
            "_model_module_version": "1.2.0",
            "_model_name": "LayoutModel",
            "_view_count": null,
            "_view_module": "@jupyter-widgets/base",
            "_view_module_version": "1.2.0",
            "_view_name": "LayoutView",
            "align_content": null,
            "align_items": null,
            "align_self": null,
            "border": null,
            "bottom": null,
            "display": null,
            "flex": null,
            "flex_flow": null,
            "grid_area": null,
            "grid_auto_columns": null,
            "grid_auto_flow": null,
            "grid_auto_rows": null,
            "grid_column": null,
            "grid_gap": null,
            "grid_row": null,
            "grid_template_areas": null,
            "grid_template_columns": null,
            "grid_template_rows": null,
            "height": null,
            "justify_content": null,
            "justify_items": null,
            "left": null,
            "margin": null,
            "max_height": null,
            "max_width": null,
            "min_height": null,
            "min_width": null,
            "object_fit": null,
            "object_position": null,
            "order": null,
            "overflow": null,
            "overflow_x": null,
            "overflow_y": null,
            "padding": null,
            "right": null,
            "top": null,
            "visibility": null,
            "width": null
          }
        },
        "c6f64cce87ce4d1da12a609d5853c350": {
          "model_module": "@jupyter-widgets/base",
          "model_name": "LayoutModel",
          "model_module_version": "1.2.0",
          "state": {
            "_model_module": "@jupyter-widgets/base",
            "_model_module_version": "1.2.0",
            "_model_name": "LayoutModel",
            "_view_count": null,
            "_view_module": "@jupyter-widgets/base",
            "_view_module_version": "1.2.0",
            "_view_name": "LayoutView",
            "align_content": null,
            "align_items": null,
            "align_self": null,
            "border": null,
            "bottom": null,
            "display": null,
            "flex": null,
            "flex_flow": null,
            "grid_area": null,
            "grid_auto_columns": null,
            "grid_auto_flow": null,
            "grid_auto_rows": null,
            "grid_column": null,
            "grid_gap": null,
            "grid_row": null,
            "grid_template_areas": null,
            "grid_template_columns": null,
            "grid_template_rows": null,
            "height": null,
            "justify_content": null,
            "justify_items": null,
            "left": null,
            "margin": null,
            "max_height": null,
            "max_width": null,
            "min_height": null,
            "min_width": null,
            "object_fit": null,
            "object_position": null,
            "order": null,
            "overflow": null,
            "overflow_x": null,
            "overflow_y": null,
            "padding": null,
            "right": null,
            "top": null,
            "visibility": null,
            "width": null
          }
        },
        "530021ff216548ba825f5e27e8a0527a": {
          "model_module": "@jupyter-widgets/controls",
          "model_name": "DescriptionStyleModel",
          "model_module_version": "1.5.0",
          "state": {
            "_model_module": "@jupyter-widgets/controls",
            "_model_module_version": "1.5.0",
            "_model_name": "DescriptionStyleModel",
            "_view_count": null,
            "_view_module": "@jupyter-widgets/base",
            "_view_module_version": "1.2.0",
            "_view_name": "StyleView",
            "description_width": ""
          }
        },
        "58ecb909aee54b8c9f16d038b5270b76": {
          "model_module": "@jupyter-widgets/base",
          "model_name": "LayoutModel",
          "model_module_version": "1.2.0",
          "state": {
            "_model_module": "@jupyter-widgets/base",
            "_model_module_version": "1.2.0",
            "_model_name": "LayoutModel",
            "_view_count": null,
            "_view_module": "@jupyter-widgets/base",
            "_view_module_version": "1.2.0",
            "_view_name": "LayoutView",
            "align_content": null,
            "align_items": null,
            "align_self": null,
            "border": null,
            "bottom": null,
            "display": null,
            "flex": null,
            "flex_flow": null,
            "grid_area": null,
            "grid_auto_columns": null,
            "grid_auto_flow": null,
            "grid_auto_rows": null,
            "grid_column": null,
            "grid_gap": null,
            "grid_row": null,
            "grid_template_areas": null,
            "grid_template_columns": null,
            "grid_template_rows": null,
            "height": null,
            "justify_content": null,
            "justify_items": null,
            "left": null,
            "margin": null,
            "max_height": null,
            "max_width": null,
            "min_height": null,
            "min_width": null,
            "object_fit": null,
            "object_position": null,
            "order": null,
            "overflow": null,
            "overflow_x": null,
            "overflow_y": null,
            "padding": null,
            "right": null,
            "top": null,
            "visibility": null,
            "width": null
          }
        },
        "e4d4bc74a0cf458281e106de983a92c1": {
          "model_module": "@jupyter-widgets/controls",
          "model_name": "ProgressStyleModel",
          "model_module_version": "1.5.0",
          "state": {
            "_model_module": "@jupyter-widgets/controls",
            "_model_module_version": "1.5.0",
            "_model_name": "ProgressStyleModel",
            "_view_count": null,
            "_view_module": "@jupyter-widgets/base",
            "_view_module_version": "1.2.0",
            "_view_name": "StyleView",
            "bar_color": null,
            "description_width": ""
          }
        },
        "a95134091514440ebb0a0cba446492b5": {
          "model_module": "@jupyter-widgets/base",
          "model_name": "LayoutModel",
          "model_module_version": "1.2.0",
          "state": {
            "_model_module": "@jupyter-widgets/base",
            "_model_module_version": "1.2.0",
            "_model_name": "LayoutModel",
            "_view_count": null,
            "_view_module": "@jupyter-widgets/base",
            "_view_module_version": "1.2.0",
            "_view_name": "LayoutView",
            "align_content": null,
            "align_items": null,
            "align_self": null,
            "border": null,
            "bottom": null,
            "display": null,
            "flex": null,
            "flex_flow": null,
            "grid_area": null,
            "grid_auto_columns": null,
            "grid_auto_flow": null,
            "grid_auto_rows": null,
            "grid_column": null,
            "grid_gap": null,
            "grid_row": null,
            "grid_template_areas": null,
            "grid_template_columns": null,
            "grid_template_rows": null,
            "height": null,
            "justify_content": null,
            "justify_items": null,
            "left": null,
            "margin": null,
            "max_height": null,
            "max_width": null,
            "min_height": null,
            "min_width": null,
            "object_fit": null,
            "object_position": null,
            "order": null,
            "overflow": null,
            "overflow_x": null,
            "overflow_y": null,
            "padding": null,
            "right": null,
            "top": null,
            "visibility": null,
            "width": null
          }
        },
        "902c8b59baeb4f39b05bf8a45d6141eb": {
          "model_module": "@jupyter-widgets/controls",
          "model_name": "DescriptionStyleModel",
          "model_module_version": "1.5.0",
          "state": {
            "_model_module": "@jupyter-widgets/controls",
            "_model_module_version": "1.5.0",
            "_model_name": "DescriptionStyleModel",
            "_view_count": null,
            "_view_module": "@jupyter-widgets/base",
            "_view_module_version": "1.2.0",
            "_view_name": "StyleView",
            "description_width": ""
          }
        },
        "e64ff3c4b0be44ae85620115c13d65bf": {
          "model_module": "@jupyter-widgets/controls",
          "model_name": "HBoxModel",
          "model_module_version": "1.5.0",
          "state": {
            "_dom_classes": [],
            "_model_module": "@jupyter-widgets/controls",
            "_model_module_version": "1.5.0",
            "_model_name": "HBoxModel",
            "_view_count": null,
            "_view_module": "@jupyter-widgets/controls",
            "_view_module_version": "1.5.0",
            "_view_name": "HBoxView",
            "box_style": "",
            "children": [
              "IPY_MODEL_a4c54a1c0b024769b386e7efc5e2e060",
              "IPY_MODEL_cdb9d6e89c6c439381b8daa55cc0567f",
              "IPY_MODEL_6bce87d9491f4fc49f159e6dce3132e3"
            ],
            "layout": "IPY_MODEL_1bfbd6f5562e4d6da00e5b185c48f95f"
          }
        },
        "a4c54a1c0b024769b386e7efc5e2e060": {
          "model_module": "@jupyter-widgets/controls",
          "model_name": "HTMLModel",
          "model_module_version": "1.5.0",
          "state": {
            "_dom_classes": [],
            "_model_module": "@jupyter-widgets/controls",
            "_model_module_version": "1.5.0",
            "_model_name": "HTMLModel",
            "_view_count": null,
            "_view_module": "@jupyter-widgets/controls",
            "_view_module_version": "1.5.0",
            "_view_name": "HTMLView",
            "description": "",
            "description_tooltip": null,
            "layout": "IPY_MODEL_09042e6c22584a48ad1bbf42d4c5c493",
            "placeholder": "​",
            "style": "IPY_MODEL_9d6bae5388534e6a9266ad39387ccd76",
            "value": "Test Loss: 0.4614, Test Acc: 0.7695: 100%"
          }
        },
        "cdb9d6e89c6c439381b8daa55cc0567f": {
          "model_module": "@jupyter-widgets/controls",
          "model_name": "FloatProgressModel",
          "model_module_version": "1.5.0",
          "state": {
            "_dom_classes": [],
            "_model_module": "@jupyter-widgets/controls",
            "_model_module_version": "1.5.0",
            "_model_name": "FloatProgressModel",
            "_view_count": null,
            "_view_module": "@jupyter-widgets/controls",
            "_view_module_version": "1.5.0",
            "_view_name": "ProgressView",
            "bar_style": "success",
            "description": "",
            "description_tooltip": null,
            "layout": "IPY_MODEL_c864a26f4fc74dd095a171c65632a3f4",
            "max": 313,
            "min": 0,
            "orientation": "horizontal",
            "style": "IPY_MODEL_3712582aa5ce470b854e1c71e1902d61",
            "value": 313
          }
        },
        "6bce87d9491f4fc49f159e6dce3132e3": {
          "model_module": "@jupyter-widgets/controls",
          "model_name": "HTMLModel",
          "model_module_version": "1.5.0",
          "state": {
            "_dom_classes": [],
            "_model_module": "@jupyter-widgets/controls",
            "_model_module_version": "1.5.0",
            "_model_name": "HTMLModel",
            "_view_count": null,
            "_view_module": "@jupyter-widgets/controls",
            "_view_module_version": "1.5.0",
            "_view_name": "HTMLView",
            "description": "",
            "description_tooltip": null,
            "layout": "IPY_MODEL_5cc599e08f504fa68585f37396db2b75",
            "placeholder": "​",
            "style": "IPY_MODEL_65e4d283883c41639dca88405a70f667",
            "value": " 313/313 [00:42&lt;00:00,  7.76it/s]"
          }
        },
        "1bfbd6f5562e4d6da00e5b185c48f95f": {
          "model_module": "@jupyter-widgets/base",
          "model_name": "LayoutModel",
          "model_module_version": "1.2.0",
          "state": {
            "_model_module": "@jupyter-widgets/base",
            "_model_module_version": "1.2.0",
            "_model_name": "LayoutModel",
            "_view_count": null,
            "_view_module": "@jupyter-widgets/base",
            "_view_module_version": "1.2.0",
            "_view_name": "LayoutView",
            "align_content": null,
            "align_items": null,
            "align_self": null,
            "border": null,
            "bottom": null,
            "display": null,
            "flex": null,
            "flex_flow": null,
            "grid_area": null,
            "grid_auto_columns": null,
            "grid_auto_flow": null,
            "grid_auto_rows": null,
            "grid_column": null,
            "grid_gap": null,
            "grid_row": null,
            "grid_template_areas": null,
            "grid_template_columns": null,
            "grid_template_rows": null,
            "height": null,
            "justify_content": null,
            "justify_items": null,
            "left": null,
            "margin": null,
            "max_height": null,
            "max_width": null,
            "min_height": null,
            "min_width": null,
            "object_fit": null,
            "object_position": null,
            "order": null,
            "overflow": null,
            "overflow_x": null,
            "overflow_y": null,
            "padding": null,
            "right": null,
            "top": null,
            "visibility": null,
            "width": null
          }
        },
        "09042e6c22584a48ad1bbf42d4c5c493": {
          "model_module": "@jupyter-widgets/base",
          "model_name": "LayoutModel",
          "model_module_version": "1.2.0",
          "state": {
            "_model_module": "@jupyter-widgets/base",
            "_model_module_version": "1.2.0",
            "_model_name": "LayoutModel",
            "_view_count": null,
            "_view_module": "@jupyter-widgets/base",
            "_view_module_version": "1.2.0",
            "_view_name": "LayoutView",
            "align_content": null,
            "align_items": null,
            "align_self": null,
            "border": null,
            "bottom": null,
            "display": null,
            "flex": null,
            "flex_flow": null,
            "grid_area": null,
            "grid_auto_columns": null,
            "grid_auto_flow": null,
            "grid_auto_rows": null,
            "grid_column": null,
            "grid_gap": null,
            "grid_row": null,
            "grid_template_areas": null,
            "grid_template_columns": null,
            "grid_template_rows": null,
            "height": null,
            "justify_content": null,
            "justify_items": null,
            "left": null,
            "margin": null,
            "max_height": null,
            "max_width": null,
            "min_height": null,
            "min_width": null,
            "object_fit": null,
            "object_position": null,
            "order": null,
            "overflow": null,
            "overflow_x": null,
            "overflow_y": null,
            "padding": null,
            "right": null,
            "top": null,
            "visibility": null,
            "width": null
          }
        },
        "9d6bae5388534e6a9266ad39387ccd76": {
          "model_module": "@jupyter-widgets/controls",
          "model_name": "DescriptionStyleModel",
          "model_module_version": "1.5.0",
          "state": {
            "_model_module": "@jupyter-widgets/controls",
            "_model_module_version": "1.5.0",
            "_model_name": "DescriptionStyleModel",
            "_view_count": null,
            "_view_module": "@jupyter-widgets/base",
            "_view_module_version": "1.2.0",
            "_view_name": "StyleView",
            "description_width": ""
          }
        },
        "c864a26f4fc74dd095a171c65632a3f4": {
          "model_module": "@jupyter-widgets/base",
          "model_name": "LayoutModel",
          "model_module_version": "1.2.0",
          "state": {
            "_model_module": "@jupyter-widgets/base",
            "_model_module_version": "1.2.0",
            "_model_name": "LayoutModel",
            "_view_count": null,
            "_view_module": "@jupyter-widgets/base",
            "_view_module_version": "1.2.0",
            "_view_name": "LayoutView",
            "align_content": null,
            "align_items": null,
            "align_self": null,
            "border": null,
            "bottom": null,
            "display": null,
            "flex": null,
            "flex_flow": null,
            "grid_area": null,
            "grid_auto_columns": null,
            "grid_auto_flow": null,
            "grid_auto_rows": null,
            "grid_column": null,
            "grid_gap": null,
            "grid_row": null,
            "grid_template_areas": null,
            "grid_template_columns": null,
            "grid_template_rows": null,
            "height": null,
            "justify_content": null,
            "justify_items": null,
            "left": null,
            "margin": null,
            "max_height": null,
            "max_width": null,
            "min_height": null,
            "min_width": null,
            "object_fit": null,
            "object_position": null,
            "order": null,
            "overflow": null,
            "overflow_x": null,
            "overflow_y": null,
            "padding": null,
            "right": null,
            "top": null,
            "visibility": null,
            "width": null
          }
        },
        "3712582aa5ce470b854e1c71e1902d61": {
          "model_module": "@jupyter-widgets/controls",
          "model_name": "ProgressStyleModel",
          "model_module_version": "1.5.0",
          "state": {
            "_model_module": "@jupyter-widgets/controls",
            "_model_module_version": "1.5.0",
            "_model_name": "ProgressStyleModel",
            "_view_count": null,
            "_view_module": "@jupyter-widgets/base",
            "_view_module_version": "1.2.0",
            "_view_name": "StyleView",
            "bar_color": null,
            "description_width": ""
          }
        },
        "5cc599e08f504fa68585f37396db2b75": {
          "model_module": "@jupyter-widgets/base",
          "model_name": "LayoutModel",
          "model_module_version": "1.2.0",
          "state": {
            "_model_module": "@jupyter-widgets/base",
            "_model_module_version": "1.2.0",
            "_model_name": "LayoutModel",
            "_view_count": null,
            "_view_module": "@jupyter-widgets/base",
            "_view_module_version": "1.2.0",
            "_view_name": "LayoutView",
            "align_content": null,
            "align_items": null,
            "align_self": null,
            "border": null,
            "bottom": null,
            "display": null,
            "flex": null,
            "flex_flow": null,
            "grid_area": null,
            "grid_auto_columns": null,
            "grid_auto_flow": null,
            "grid_auto_rows": null,
            "grid_column": null,
            "grid_gap": null,
            "grid_row": null,
            "grid_template_areas": null,
            "grid_template_columns": null,
            "grid_template_rows": null,
            "height": null,
            "justify_content": null,
            "justify_items": null,
            "left": null,
            "margin": null,
            "max_height": null,
            "max_width": null,
            "min_height": null,
            "min_width": null,
            "object_fit": null,
            "object_position": null,
            "order": null,
            "overflow": null,
            "overflow_x": null,
            "overflow_y": null,
            "padding": null,
            "right": null,
            "top": null,
            "visibility": null,
            "width": null
          }
        },
        "65e4d283883c41639dca88405a70f667": {
          "model_module": "@jupyter-widgets/controls",
          "model_name": "DescriptionStyleModel",
          "model_module_version": "1.5.0",
          "state": {
            "_model_module": "@jupyter-widgets/controls",
            "_model_module_version": "1.5.0",
            "_model_name": "DescriptionStyleModel",
            "_view_count": null,
            "_view_module": "@jupyter-widgets/base",
            "_view_module_version": "1.2.0",
            "_view_name": "StyleView",
            "description_width": ""
          }
        }
      }
    }
  },
  "nbformat": 4,
  "nbformat_minor": 0
}